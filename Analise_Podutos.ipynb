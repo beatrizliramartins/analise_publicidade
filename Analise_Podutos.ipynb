{
 "cells": [
  {
   "cell_type": "code",
   "execution_count": 1,
   "id": "2f9f57e8",
   "metadata": {},
   "outputs": [],
   "source": [
    "import pandas as pd\n",
    "import matplotlib.pyplot as plt\n",
    "import seaborn as sns\n",
    "import numpy as np"
   ]
  },
  {
   "cell_type": "code",
   "execution_count": 2,
   "id": "f226c9b3",
   "metadata": {},
   "outputs": [],
   "source": [
    "ad_data = pd.read_csv('Analise_Produtos.csv')"
   ]
  },
  {
   "cell_type": "code",
   "execution_count": 3,
   "id": "8d435bf9",
   "metadata": {},
   "outputs": [
    {
     "data": {
      "text/html": [
       "<div>\n",
       "<style scoped>\n",
       "    .dataframe tbody tr th:only-of-type {\n",
       "        vertical-align: middle;\n",
       "    }\n",
       "\n",
       "    .dataframe tbody tr th {\n",
       "        vertical-align: top;\n",
       "    }\n",
       "\n",
       "    .dataframe thead th {\n",
       "        text-align: right;\n",
       "    }\n",
       "</style>\n",
       "<table border=\"1\" class=\"dataframe\">\n",
       "  <thead>\n",
       "    <tr style=\"text-align: right;\">\n",
       "      <th></th>\n",
       "      <th>Nome do item</th>\n",
       "      <th>Itens vistos</th>\n",
       "      <th>Itens adicionados ao carrinho</th>\n",
       "      <th>Itens comprados</th>\n",
       "      <th>Receita do item</th>\n",
       "    </tr>\n",
       "  </thead>\n",
       "  <tbody>\n",
       "    <tr>\n",
       "      <th>0</th>\n",
       "      <td>WAHL MÁQUINA DE CORTE MAGIC CLIP CORDLESS BIVO...</td>\n",
       "      <td>5068</td>\n",
       "      <td>1376</td>\n",
       "      <td>276</td>\n",
       "      <td>220.716.705.499</td>\n",
       "    </tr>\n",
       "    <tr>\n",
       "      <th>1</th>\n",
       "      <td>LÂMINA WILKINSON GILETES DE BARBIAR CARTELAS C...</td>\n",
       "      <td>443</td>\n",
       "      <td>888</td>\n",
       "      <td>238</td>\n",
       "      <td>6.710.347.921</td>\n",
       "    </tr>\n",
       "    <tr>\n",
       "      <th>2</th>\n",
       "      <td>Máquina Wahl 5 Star Limited Edition Gold Cordl...</td>\n",
       "      <td>3406</td>\n",
       "      <td>1036</td>\n",
       "      <td>221</td>\n",
       "      <td>248.118.134.521</td>\n",
       "    </tr>\n",
       "    <tr>\n",
       "      <th>3</th>\n",
       "      <td>POMADA MODELADORA CAPILAR MASCULINA JACK BARBE...</td>\n",
       "      <td>385</td>\n",
       "      <td>870</td>\n",
       "      <td>218</td>\n",
       "      <td>2.097.220.416</td>\n",
       "    </tr>\n",
       "    <tr>\n",
       "      <th>4</th>\n",
       "      <td>Kit de 5 rolos de gola higiênica - Rolo com 10...</td>\n",
       "      <td>311</td>\n",
       "      <td>1054</td>\n",
       "      <td>214</td>\n",
       "      <td>8.308.595.752</td>\n",
       "    </tr>\n",
       "  </tbody>\n",
       "</table>\n",
       "</div>"
      ],
      "text/plain": [
       "                                        Nome do item  Itens vistos  \\\n",
       "0  WAHL MÁQUINA DE CORTE MAGIC CLIP CORDLESS BIVO...          5068   \n",
       "1  LÂMINA WILKINSON GILETES DE BARBIAR CARTELAS C...           443   \n",
       "2  Máquina Wahl 5 Star Limited Edition Gold Cordl...          3406   \n",
       "3  POMADA MODELADORA CAPILAR MASCULINA JACK BARBE...           385   \n",
       "4  Kit de 5 rolos de gola higiênica - Rolo com 10...           311   \n",
       "\n",
       "   Itens adicionados ao carrinho  Itens comprados  Receita do item  \n",
       "0                           1376              276  220.716.705.499  \n",
       "1                            888              238    6.710.347.921  \n",
       "2                           1036              221  248.118.134.521  \n",
       "3                            870              218    2.097.220.416  \n",
       "4                           1054              214    8.308.595.752  "
      ]
     },
     "execution_count": 3,
     "metadata": {},
     "output_type": "execute_result"
    }
   ],
   "source": [
    "ad_data.head()"
   ]
  },
  {
   "cell_type": "code",
   "execution_count": 4,
   "id": "3c551a1e",
   "metadata": {},
   "outputs": [],
   "source": [
    "ad_datad = pd.DataFrame(ad_data)"
   ]
  },
  {
   "cell_type": "code",
   "execution_count": 5,
   "id": "8e95eb2f",
   "metadata": {},
   "outputs": [
    {
     "data": {
      "text/html": [
       "<div>\n",
       "<style scoped>\n",
       "    .dataframe tbody tr th:only-of-type {\n",
       "        vertical-align: middle;\n",
       "    }\n",
       "\n",
       "    .dataframe tbody tr th {\n",
       "        vertical-align: top;\n",
       "    }\n",
       "\n",
       "    .dataframe thead th {\n",
       "        text-align: right;\n",
       "    }\n",
       "</style>\n",
       "<table border=\"1\" class=\"dataframe\">\n",
       "  <thead>\n",
       "    <tr style=\"text-align: right;\">\n",
       "      <th></th>\n",
       "      <th>Nome do item</th>\n",
       "      <th>Itens vistos</th>\n",
       "      <th>Itens adicionados ao carrinho</th>\n",
       "      <th>Itens comprados</th>\n",
       "      <th>Receita do item</th>\n",
       "    </tr>\n",
       "  </thead>\n",
       "  <tbody>\n",
       "    <tr>\n",
       "      <th>0</th>\n",
       "      <td>WAHL MÁQUINA DE CORTE MAGIC CLIP CORDLESS BIVO...</td>\n",
       "      <td>5068</td>\n",
       "      <td>1376</td>\n",
       "      <td>276</td>\n",
       "      <td>220.716.705.499</td>\n",
       "    </tr>\n",
       "    <tr>\n",
       "      <th>1</th>\n",
       "      <td>LÂMINA WILKINSON GILETES DE BARBIAR CARTELAS C...</td>\n",
       "      <td>443</td>\n",
       "      <td>888</td>\n",
       "      <td>238</td>\n",
       "      <td>6.710.347.921</td>\n",
       "    </tr>\n",
       "    <tr>\n",
       "      <th>2</th>\n",
       "      <td>Máquina Wahl 5 Star Limited Edition Gold Cordl...</td>\n",
       "      <td>3406</td>\n",
       "      <td>1036</td>\n",
       "      <td>221</td>\n",
       "      <td>248.118.134.521</td>\n",
       "    </tr>\n",
       "    <tr>\n",
       "      <th>3</th>\n",
       "      <td>POMADA MODELADORA CAPILAR MASCULINA JACK BARBE...</td>\n",
       "      <td>385</td>\n",
       "      <td>870</td>\n",
       "      <td>218</td>\n",
       "      <td>2.097.220.416</td>\n",
       "    </tr>\n",
       "    <tr>\n",
       "      <th>4</th>\n",
       "      <td>Kit de 5 rolos de gola higiênica - Rolo com 10...</td>\n",
       "      <td>311</td>\n",
       "      <td>1054</td>\n",
       "      <td>214</td>\n",
       "      <td>8.308.595.752</td>\n",
       "    </tr>\n",
       "  </tbody>\n",
       "</table>\n",
       "</div>"
      ],
      "text/plain": [
       "                                        Nome do item  Itens vistos  \\\n",
       "0  WAHL MÁQUINA DE CORTE MAGIC CLIP CORDLESS BIVO...          5068   \n",
       "1  LÂMINA WILKINSON GILETES DE BARBIAR CARTELAS C...           443   \n",
       "2  Máquina Wahl 5 Star Limited Edition Gold Cordl...          3406   \n",
       "3  POMADA MODELADORA CAPILAR MASCULINA JACK BARBE...           385   \n",
       "4  Kit de 5 rolos de gola higiênica - Rolo com 10...           311   \n",
       "\n",
       "   Itens adicionados ao carrinho  Itens comprados  Receita do item  \n",
       "0                           1376              276  220.716.705.499  \n",
       "1                            888              238    6.710.347.921  \n",
       "2                           1036              221  248.118.134.521  \n",
       "3                            870              218    2.097.220.416  \n",
       "4                           1054              214    8.308.595.752  "
      ]
     },
     "execution_count": 5,
     "metadata": {},
     "output_type": "execute_result"
    }
   ],
   "source": [
    "ad_datad.head()"
   ]
  },
  {
   "cell_type": "code",
   "execution_count": 6,
   "id": "937272e2",
   "metadata": {},
   "outputs": [
    {
     "data": {
      "text/plain": [
       "<Axes: >"
      ]
     },
     "execution_count": 6,
     "metadata": {},
     "output_type": "execute_result"
    },
    {
     "data": {
      "image/png": "[encoded data removed]",
      "text/plain": [
       "<Figure size 640x480 with 1 Axes>"
      ]
     },
     "metadata": {},
     "output_type": "display_data"
    }
   ],
   "source": [
    "ad_datad['Itens vistos'].hist(bins=30)"
   ]
  },
  {
   "cell_type": "code",
   "execution_count": 7,
   "id": "fb1b6719",
   "metadata": {},
   "outputs": [
    {
     "data": {
      "text/plain": [
       "<seaborn.axisgrid.JointGrid at 0x1e438bbd3d0>"
      ]
     },
     "execution_count": 7,
     "metadata": {},
     "output_type": "execute_result"
    },
    {
     "data": {
      "image/png": "[encoded data removed]",
      "text/plain": [
       "<Figure size 600x600 with 3 Axes>"
      ]
     },
     "metadata": {},
     "output_type": "display_data"
    }
   ],
   "source": [
    "sns.jointplot(x='Itens vistos', y='Itens adicionados ao carrinho', data=ad_datad)"
   ]
  },
  {
   "cell_type": "code",
   "execution_count": 8,
   "id": "6b1079f8",
   "metadata": {},
   "outputs": [
    {
     "data": {
      "image/png": "[encoded data removed]",
      "text/plain": [
       "<Figure size 600x600 with 3 Axes>"
      ]
     },
     "metadata": {},
     "output_type": "display_data"
    }
   ],
   "source": [
    "sns.jointplot(x='Itens adicionados ao carrinho', y='Itens comprados', data=ad_datad, color='red', kind='kde');"
   ]
  },
  {
   "cell_type": "code",
   "execution_count": 9,
   "id": "6fa4d241",
   "metadata": {},
   "outputs": [
    {
     "data": {
      "text/plain": [
       "<seaborn.axisgrid.JointGrid at 0x1e439baae10>"
      ]
     },
     "execution_count": 9,
     "metadata": {},
     "output_type": "execute_result"
    },
    {
     "data": {
      "image/png": "[encoded data removed]",
      "text/plain": [
       "<Figure size 600x600 with 3 Axes>"
      ]
     },
     "metadata": {},
     "output_type": "display_data"
    }
   ],
   "source": [
    "sns.jointplot(x='Itens vistos', y='Itens adicionados ao carrinho', data=ad_data, color='green')"
   ]
  },
  {
   "cell_type": "code",
   "execution_count": 10,
   "id": "2a2f9df0",
   "metadata": {},
   "outputs": [
    {
     "name": "stderr",
     "output_type": "stream",
     "text": [
      "C:\\Users\\bealm\\anaconda3\\Lib\\site-packages\\seaborn\\axisgrid.py:118: UserWarning: The figure layout has changed to tight\n",
      "  self._figure.tight_layout(*args, **kwargs)\n"
     ]
    },
    {
     "data": {
      "text/plain": [
       "<seaborn.axisgrid.PairGrid at 0x1e439929a90>"
      ]
     },
     "execution_count": 10,
     "metadata": {},
     "output_type": "execute_result"
    },
    {
     "data": {
      "image/png": "[encoded data removed]",
      "text/plain": [
       "<Figure size 589.736x500 with 6 Axes>"
      ]
     },
     "metadata": {},
     "output_type": "display_data"
    }
   ],
   "source": [
    "sns.pairplot(ad_data, hue='Itens vistos')"
   ]
  },
  {
   "cell_type": "code",
   "execution_count": 11,
   "id": "9c9ec393",
   "metadata": {},
   "outputs": [],
   "source": [
    "ad_data = ad_data.drop([\"Nome do item\"], axis=1)"
   ]
  },
  {
   "cell_type": "code",
   "execution_count": 12,
   "id": "f08f6f8d",
   "metadata": {},
   "outputs": [],
   "source": [
    "from sklearn.model_selection import train_test_split\n"
   ]
  },
  {
   "cell_type": "code",
   "execution_count": 13,
   "id": "838437a5",
   "metadata": {},
   "outputs": [],
   "source": [
    "Y = ad_data[\"Itens vistos\"]\n",
    "X = ad_data.loc[:, ad_data.columns!= \"Itens comprados\"]"
   ]
  },
  {
   "cell_type": "code",
   "execution_count": 14,
   "id": "3cd88a75",
   "metadata": {},
   "outputs": [],
   "source": [
    "x_train, x_test, y_train, y_test = train_test_split(X,Y, test_size=0.3)"
   ]
  },
  {
   "cell_type": "code",
   "execution_count": 15,
   "id": "7cca49e5",
   "metadata": {},
   "outputs": [
    {
     "data": {
      "text/html": [
       "<div>\n",
       "<style scoped>\n",
       "    .dataframe tbody tr th:only-of-type {\n",
       "        vertical-align: middle;\n",
       "    }\n",
       "\n",
       "    .dataframe tbody tr th {\n",
       "        vertical-align: top;\n",
       "    }\n",
       "\n",
       "    .dataframe thead th {\n",
       "        text-align: right;\n",
       "    }\n",
       "</style>\n",
       "<table border=\"1\" class=\"dataframe\">\n",
       "  <thead>\n",
       "    <tr style=\"text-align: right;\">\n",
       "      <th></th>\n",
       "      <th>Itens vistos</th>\n",
       "      <th>Itens adicionados ao carrinho</th>\n",
       "      <th>Receita do item</th>\n",
       "    </tr>\n",
       "  </thead>\n",
       "  <tbody>\n",
       "    <tr>\n",
       "      <th>171</th>\n",
       "      <td>96</td>\n",
       "      <td>228</td>\n",
       "      <td>23.762.363</td>\n",
       "    </tr>\n",
       "    <tr>\n",
       "      <th>720</th>\n",
       "      <td>53</td>\n",
       "      <td>10</td>\n",
       "      <td>2.297.588.561</td>\n",
       "    </tr>\n",
       "    <tr>\n",
       "      <th>860</th>\n",
       "      <td>0</td>\n",
       "      <td>0</td>\n",
       "      <td>164.899.998</td>\n",
       "    </tr>\n",
       "    <tr>\n",
       "      <th>1008</th>\n",
       "      <td>10</td>\n",
       "      <td>0</td>\n",
       "      <td>0</td>\n",
       "    </tr>\n",
       "    <tr>\n",
       "      <th>293</th>\n",
       "      <td>94</td>\n",
       "      <td>115</td>\n",
       "      <td>430.486.671</td>\n",
       "    </tr>\n",
       "    <tr>\n",
       "      <th>...</th>\n",
       "      <td>...</td>\n",
       "      <td>...</td>\n",
       "      <td>...</td>\n",
       "    </tr>\n",
       "    <tr>\n",
       "      <th>654</th>\n",
       "      <td>25</td>\n",
       "      <td>18</td>\n",
       "      <td>69.800.002</td>\n",
       "    </tr>\n",
       "    <tr>\n",
       "      <th>330</th>\n",
       "      <td>146</td>\n",
       "      <td>27</td>\n",
       "      <td>239.000.004</td>\n",
       "    </tr>\n",
       "    <tr>\n",
       "      <th>1144</th>\n",
       "      <td>0</td>\n",
       "      <td>3</td>\n",
       "      <td>0</td>\n",
       "    </tr>\n",
       "    <tr>\n",
       "      <th>521</th>\n",
       "      <td>29</td>\n",
       "      <td>14</td>\n",
       "      <td>1596</td>\n",
       "    </tr>\n",
       "    <tr>\n",
       "      <th>311</th>\n",
       "      <td>1114</td>\n",
       "      <td>96</td>\n",
       "      <td>16.848.999.989</td>\n",
       "    </tr>\n",
       "  </tbody>\n",
       "</table>\n",
       "<p>882 rows × 3 columns</p>\n",
       "</div>"
      ],
      "text/plain": [
       "      Itens vistos  Itens adicionados ao carrinho Receita do item\n",
       "171             96                            228      23.762.363\n",
       "720             53                             10   2.297.588.561\n",
       "860              0                              0     164.899.998\n",
       "1008            10                              0               0\n",
       "293             94                            115     430.486.671\n",
       "...            ...                            ...             ...\n",
       "654             25                             18      69.800.002\n",
       "330            146                             27     239.000.004\n",
       "1144             0                              3               0\n",
       "521             29                             14            1596\n",
       "311           1114                             96  16.848.999.989\n",
       "\n",
       "[882 rows x 3 columns]"
      ]
     },
     "execution_count": 15,
     "metadata": {},
     "output_type": "execute_result"
    }
   ],
   "source": [
    "x_train"
   ]
  },
  {
   "cell_type": "code",
   "execution_count": 16,
   "id": "0e4a8f47",
   "metadata": {
    "scrolled": true
   },
   "outputs": [
    {
     "data": {
      "text/plain": [
       "171       96\n",
       "720       53\n",
       "860        0\n",
       "1008      10\n",
       "293       94\n",
       "        ... \n",
       "654       25\n",
       "330      146\n",
       "1144       0\n",
       "521       29\n",
       "311     1114\n",
       "Name: Itens vistos, Length: 882, dtype: int64"
      ]
     },
     "execution_count": 16,
     "metadata": {},
     "output_type": "execute_result"
    }
   ],
   "source": [
    "y_train"
   ]
  },
  {
   "cell_type": "code",
   "execution_count": 17,
   "id": "081b4b17",
   "metadata": {},
   "outputs": [],
   "source": [
    "y_train = y_train[y_train != 'Nome do item']"
   ]
  },
  {
   "cell_type": "code",
   "execution_count": 18,
   "id": "e3aaab33",
   "metadata": {},
   "outputs": [],
   "source": [
    "x_train['Receita do item'] = x_train['Receita do item'].str.replace('.', '').astype(float)\n"
   ]
  },
  {
   "cell_type": "code",
   "execution_count": 19,
   "id": "5fa769db",
   "metadata": {},
   "outputs": [],
   "source": [
    "x_train['Itens vistos'] = x_train['Itens vistos'].astype(float)\n",
    "x_train['Itens adicionados ao carrinho'] = x_train['Itens adicionados ao carrinho'].astype(float)"
   ]
  },
  {
   "cell_type": "code",
   "execution_count": 20,
   "id": "99548985",
   "metadata": {},
   "outputs": [
    {
     "data": {
      "text/html": [
       "<style>#sk-container-id-1 {color: black;}#sk-container-id-1 pre{padding: 0;}#sk-container-id-1 div.sk-toggleable {background-color: white;}#sk-container-id-1 label.sk-toggleable__label {cursor: pointer;display: block;width: 100%;margin-bottom: 0;padding: 0.3em;box-sizing: border-box;text-align: center;}#sk-container-id-1 label.sk-toggleable__label-arrow:before {content: \"▸\";float: left;margin-right: 0.25em;color: #696969;}#sk-container-id-1 label.sk-toggleable__label-arrow:hover:before {color: black;}#sk-container-id-1 div.sk-estimator:hover label.sk-toggleable__label-arrow:before {color: black;}#sk-container-id-1 div.sk-toggleable__content {max-height: 0;max-width: 0;overflow: hidden;text-align: left;background-color: #f0f8ff;}#sk-container-id-1 div.sk-toggleable__content pre {margin: 0.2em;color: black;border-radius: 0.25em;background-color: #f0f8ff;}#sk-container-id-1 input.sk-toggleable__control:checked~div.sk-toggleable__content {max-height: 200px;max-width: 100%;overflow: auto;}#sk-container-id-1 input.sk-toggleable__control:checked~label.sk-toggleable__label-arrow:before {content: \"▾\";}#sk-container-id-1 div.sk-estimator input.sk-toggleable__control:checked~label.sk-toggleable__label {background-color: #d4ebff;}#sk-container-id-1 div.sk-label input.sk-toggleable__control:checked~label.sk-toggleable__label {background-color: #d4ebff;}#sk-container-id-1 input.sk-hidden--visually {border: 0;clip: rect(1px 1px 1px 1px);clip: rect(1px, 1px, 1px, 1px);height: 1px;margin: -1px;overflow: hidden;padding: 0;position: absolute;width: 1px;}#sk-container-id-1 div.sk-estimator {font-family: monospace;background-color: #f0f8ff;border: 1px dotted black;border-radius: 0.25em;box-sizing: border-box;margin-bottom: 0.5em;}#sk-container-id-1 div.sk-estimator:hover {background-color: #d4ebff;}#sk-container-id-1 div.sk-parallel-item::after {content: \"\";width: 100%;border-bottom: 1px solid gray;flex-grow: 1;}#sk-container-id-1 div.sk-label:hover label.sk-toggleable__label {background-color: #d4ebff;}#sk-container-id-1 div.sk-serial::before {content: \"\";position: absolute;border-left: 1px solid gray;box-sizing: border-box;top: 0;bottom: 0;left: 50%;z-index: 0;}#sk-container-id-1 div.sk-serial {display: flex;flex-direction: column;align-items: center;background-color: white;padding-right: 0.2em;padding-left: 0.2em;position: relative;}#sk-container-id-1 div.sk-item {position: relative;z-index: 1;}#sk-container-id-1 div.sk-parallel {display: flex;align-items: stretch;justify-content: center;background-color: white;position: relative;}#sk-container-id-1 div.sk-item::before, #sk-container-id-1 div.sk-parallel-item::before {content: \"\";position: absolute;border-left: 1px solid gray;box-sizing: border-box;top: 0;bottom: 0;left: 50%;z-index: -1;}#sk-container-id-1 div.sk-parallel-item {display: flex;flex-direction: column;z-index: 1;position: relative;background-color: white;}#sk-container-id-1 div.sk-parallel-item:first-child::after {align-self: flex-end;width: 50%;}#sk-container-id-1 div.sk-parallel-item:last-child::after {align-self: flex-start;width: 50%;}#sk-container-id-1 div.sk-parallel-item:only-child::after {width: 0;}#sk-container-id-1 div.sk-dashed-wrapped {border: 1px dashed gray;margin: 0 0.4em 0.5em 0.4em;box-sizing: border-box;padding-bottom: 0.4em;background-color: white;}#sk-container-id-1 div.sk-label label {font-family: monospace;font-weight: bold;display: inline-block;line-height: 1.2em;}#sk-container-id-1 div.sk-label-container {text-align: center;}#sk-container-id-1 div.sk-container {/* jupyter's `normalize.less` sets `[hidden] { display: none; }` but bootstrap.min.css set `[hidden] { display: none !important; }` so we also need the `!important` here to be able to override the default hidden behavior on the sphinx rendered scikit-learn.org. See: https://github.com/scikit-learn/scikit-learn/issues/21755 */display: inline-block !important;position: relative;}#sk-container-id-1 div.sk-text-repr-fallback {display: none;}</style><div id=\"sk-container-id-1\" class=\"sk-top-container\"><div class=\"sk-text-repr-fallback\"><pre>LinearRegression()</pre><b>In a Jupyter environment, please rerun this cell to show the HTML representation or trust the notebook. <br />On GitHub, the HTML representation is unable to render, please try loading this page with nbviewer.org.</b></div><div class=\"sk-container\" hidden><div class=\"sk-item\"><div class=\"sk-estimator sk-toggleable\"><input class=\"sk-toggleable__control sk-hidden--visually\" id=\"sk-estimator-id-1\" type=\"checkbox\" checked><label for=\"sk-estimator-id-1\" class=\"sk-toggleable__label sk-toggleable__label-arrow\">LinearRegression</label><div class=\"sk-toggleable__content\"><pre>LinearRegression()</pre></div></div></div></div></div>"
      ],
      "text/plain": [
       "LinearRegression()"
      ]
     },
     "execution_count": 20,
     "metadata": {},
     "output_type": "execute_result"
    }
   ],
   "source": [
    "#LinearRegression \n",
    "\n",
    "from sklearn.linear_model import LinearRegression \n",
    "\n",
    "lin_reg = LinearRegression()\n",
    "lin_reg.fit(x_train, y_train)"
   ]
  },
  {
   "cell_type": "code",
   "execution_count": 21,
   "id": "7977a6b8",
   "metadata": {},
   "outputs": [
    {
     "name": "stdout",
     "output_type": "stream",
     "text": [
      "Predições: [9.60000000e+01 5.30000000e+01 5.60942476e-14 1.00000000e+01\n",
      " 9.40000000e+01]\n",
      "Labels: [96 53  0 10 94]\n"
     ]
    }
   ],
   "source": [
    "alguns_dados = x_train.iloc[:5]\n",
    "algumas_label = y_train.iloc[:5]\n",
    "\n",
    "print(\"Predições:\", lin_reg.predict(alguns_dados))\n",
    "print(\"Labels:\", algumas_label.values)"
   ]
  },
  {
   "cell_type": "code",
   "execution_count": 22,
   "id": "fa86526e",
   "metadata": {},
   "outputs": [],
   "source": [
    "# Converter a coluna 'Receita do item' para float\n",
    "x_test['Receita do item'] = x_test['Receita do item'].str.replace('.', '').astype(float)\n",
    "\n",
    "# Converter as outras colunas para float\n",
    "x_test['Itens vistos'] = x_test['Itens vistos'].astype(float)\n",
    "x_test['Itens adicionados ao carrinho'] = x_test['Itens adicionados ao carrinho'].astype(float)"
   ]
  },
  {
   "cell_type": "code",
   "execution_count": 23,
   "id": "2047620b",
   "metadata": {},
   "outputs": [
    {
     "data": {
      "text/html": [
       "<div>\n",
       "<style scoped>\n",
       "    .dataframe tbody tr th:only-of-type {\n",
       "        vertical-align: middle;\n",
       "    }\n",
       "\n",
       "    .dataframe tbody tr th {\n",
       "        vertical-align: top;\n",
       "    }\n",
       "\n",
       "    .dataframe thead th {\n",
       "        text-align: right;\n",
       "    }\n",
       "</style>\n",
       "<table border=\"1\" class=\"dataframe\">\n",
       "  <thead>\n",
       "    <tr style=\"text-align: right;\">\n",
       "      <th></th>\n",
       "      <th>Itens vistos</th>\n",
       "      <th>Itens adicionados ao carrinho</th>\n",
       "      <th>Receita do item</th>\n",
       "    </tr>\n",
       "  </thead>\n",
       "  <tbody>\n",
       "    <tr>\n",
       "      <th>171</th>\n",
       "      <td>96.0</td>\n",
       "      <td>228.0</td>\n",
       "      <td>2.376236e+07</td>\n",
       "    </tr>\n",
       "    <tr>\n",
       "      <th>720</th>\n",
       "      <td>53.0</td>\n",
       "      <td>10.0</td>\n",
       "      <td>2.297589e+09</td>\n",
       "    </tr>\n",
       "    <tr>\n",
       "      <th>860</th>\n",
       "      <td>0.0</td>\n",
       "      <td>0.0</td>\n",
       "      <td>1.649000e+08</td>\n",
       "    </tr>\n",
       "    <tr>\n",
       "      <th>1008</th>\n",
       "      <td>10.0</td>\n",
       "      <td>0.0</td>\n",
       "      <td>0.000000e+00</td>\n",
       "    </tr>\n",
       "    <tr>\n",
       "      <th>293</th>\n",
       "      <td>94.0</td>\n",
       "      <td>115.0</td>\n",
       "      <td>4.304867e+08</td>\n",
       "    </tr>\n",
       "  </tbody>\n",
       "</table>\n",
       "</div>"
      ],
      "text/plain": [
       "      Itens vistos  Itens adicionados ao carrinho  Receita do item\n",
       "171           96.0                          228.0     2.376236e+07\n",
       "720           53.0                           10.0     2.297589e+09\n",
       "860            0.0                            0.0     1.649000e+08\n",
       "1008          10.0                            0.0     0.000000e+00\n",
       "293           94.0                          115.0     4.304867e+08"
      ]
     },
     "execution_count": 23,
     "metadata": {},
     "output_type": "execute_result"
    }
   ],
   "source": [
    "alguns_dados"
   ]
  },
  {
   "cell_type": "code",
   "execution_count": 24,
   "id": "cd4c1e71",
   "metadata": {},
   "outputs": [
    {
     "data": {
      "text/html": [
       "<style>#sk-container-id-2 {color: black;}#sk-container-id-2 pre{padding: 0;}#sk-container-id-2 div.sk-toggleable {background-color: white;}#sk-container-id-2 label.sk-toggleable__label {cursor: pointer;display: block;width: 100%;margin-bottom: 0;padding: 0.3em;box-sizing: border-box;text-align: center;}#sk-container-id-2 label.sk-toggleable__label-arrow:before {content: \"▸\";float: left;margin-right: 0.25em;color: #696969;}#sk-container-id-2 label.sk-toggleable__label-arrow:hover:before {color: black;}#sk-container-id-2 div.sk-estimator:hover label.sk-toggleable__label-arrow:before {color: black;}#sk-container-id-2 div.sk-toggleable__content {max-height: 0;max-width: 0;overflow: hidden;text-align: left;background-color: #f0f8ff;}#sk-container-id-2 div.sk-toggleable__content pre {margin: 0.2em;color: black;border-radius: 0.25em;background-color: #f0f8ff;}#sk-container-id-2 input.sk-toggleable__control:checked~div.sk-toggleable__content {max-height: 200px;max-width: 100%;overflow: auto;}#sk-container-id-2 input.sk-toggleable__control:checked~label.sk-toggleable__label-arrow:before {content: \"▾\";}#sk-container-id-2 div.sk-estimator input.sk-toggleable__control:checked~label.sk-toggleable__label {background-color: #d4ebff;}#sk-container-id-2 div.sk-label input.sk-toggleable__control:checked~label.sk-toggleable__label {background-color: #d4ebff;}#sk-container-id-2 input.sk-hidden--visually {border: 0;clip: rect(1px 1px 1px 1px);clip: rect(1px, 1px, 1px, 1px);height: 1px;margin: -1px;overflow: hidden;padding: 0;position: absolute;width: 1px;}#sk-container-id-2 div.sk-estimator {font-family: monospace;background-color: #f0f8ff;border: 1px dotted black;border-radius: 0.25em;box-sizing: border-box;margin-bottom: 0.5em;}#sk-container-id-2 div.sk-estimator:hover {background-color: #d4ebff;}#sk-container-id-2 div.sk-parallel-item::after {content: \"\";width: 100%;border-bottom: 1px solid gray;flex-grow: 1;}#sk-container-id-2 div.sk-label:hover label.sk-toggleable__label {background-color: #d4ebff;}#sk-container-id-2 div.sk-serial::before {content: \"\";position: absolute;border-left: 1px solid gray;box-sizing: border-box;top: 0;bottom: 0;left: 50%;z-index: 0;}#sk-container-id-2 div.sk-serial {display: flex;flex-direction: column;align-items: center;background-color: white;padding-right: 0.2em;padding-left: 0.2em;position: relative;}#sk-container-id-2 div.sk-item {position: relative;z-index: 1;}#sk-container-id-2 div.sk-parallel {display: flex;align-items: stretch;justify-content: center;background-color: white;position: relative;}#sk-container-id-2 div.sk-item::before, #sk-container-id-2 div.sk-parallel-item::before {content: \"\";position: absolute;border-left: 1px solid gray;box-sizing: border-box;top: 0;bottom: 0;left: 50%;z-index: -1;}#sk-container-id-2 div.sk-parallel-item {display: flex;flex-direction: column;z-index: 1;position: relative;background-color: white;}#sk-container-id-2 div.sk-parallel-item:first-child::after {align-self: flex-end;width: 50%;}#sk-container-id-2 div.sk-parallel-item:last-child::after {align-self: flex-start;width: 50%;}#sk-container-id-2 div.sk-parallel-item:only-child::after {width: 0;}#sk-container-id-2 div.sk-dashed-wrapped {border: 1px dashed gray;margin: 0 0.4em 0.5em 0.4em;box-sizing: border-box;padding-bottom: 0.4em;background-color: white;}#sk-container-id-2 div.sk-label label {font-family: monospace;font-weight: bold;display: inline-block;line-height: 1.2em;}#sk-container-id-2 div.sk-label-container {text-align: center;}#sk-container-id-2 div.sk-container {/* jupyter's `normalize.less` sets `[hidden] { display: none; }` but bootstrap.min.css set `[hidden] { display: none !important; }` so we also need the `!important` here to be able to override the default hidden behavior on the sphinx rendered scikit-learn.org. See: https://github.com/scikit-learn/scikit-learn/issues/21755 */display: inline-block !important;position: relative;}#sk-container-id-2 div.sk-text-repr-fallback {display: none;}</style><div id=\"sk-container-id-2\" class=\"sk-top-container\"><div class=\"sk-text-repr-fallback\"><pre>RandomForestRegressor()</pre><b>In a Jupyter environment, please rerun this cell to show the HTML representation or trust the notebook. <br />On GitHub, the HTML representation is unable to render, please try loading this page with nbviewer.org.</b></div><div class=\"sk-container\" hidden><div class=\"sk-item\"><div class=\"sk-estimator sk-toggleable\"><input class=\"sk-toggleable__control sk-hidden--visually\" id=\"sk-estimator-id-2\" type=\"checkbox\" checked><label for=\"sk-estimator-id-2\" class=\"sk-toggleable__label sk-toggleable__label-arrow\">RandomForestRegressor</label><div class=\"sk-toggleable__content\"><pre>RandomForestRegressor()</pre></div></div></div></div></div>"
      ],
      "text/plain": [
       "RandomForestRegressor()"
      ]
     },
     "execution_count": 24,
     "metadata": {},
     "output_type": "execute_result"
    }
   ],
   "source": [
    "from sklearn.ensemble import RandomForestRegressor\n",
    "\n",
    "rf_reg = RandomForestRegressor()\n",
    "rf_reg.fit(x_train, y_train)"
   ]
  },
  {
   "cell_type": "code",
   "execution_count": 25,
   "id": "072630c7",
   "metadata": {},
   "outputs": [
    {
     "data": {
      "text/plain": [
       "12.351823338921205"
      ]
     },
     "execution_count": 25,
     "metadata": {},
     "output_type": "execute_result"
    }
   ],
   "source": [
    "from sklearn.metrics import mean_squared_error\n",
    "\n",
    "preds = rf_reg.predict(x_train)\n",
    "rf_mse = mean_squared_error(y_train, preds)\n",
    "\n",
    "rf_rmse = np.sqrt(rf_mse)\n",
    "rf_rmse"
   ]
  },
  {
   "cell_type": "code",
   "execution_count": 26,
   "id": "075cff70",
   "metadata": {},
   "outputs": [],
   "source": [
    "from sklearn.ensemble import RandomForestRegressor\n",
    "from sklearn.model_selection import cross_val_score\n",
    "\n",
    "# Criar uma instância do modelo RandomForestRegressor\n",
    "rf_regressor = RandomForestRegressor()\n",
    "\n",
    "# Realizar a validação cruzada com o estimador RandomForestRegressor\n",
    "scores = cross_val_score(rf_regressor, x_train, y_train, scoring=\"neg_mean_squared_error\", cv=10)\n"
   ]
  },
  {
   "cell_type": "code",
   "execution_count": 27,
   "id": "7f477f18",
   "metadata": {},
   "outputs": [
    {
     "name": "stdout",
     "output_type": "stream",
     "text": [
      "Scores: [49.86681937 50.3995426   1.28811128 62.5853529  30.42069059  3.4127991\n",
      "  2.54238301  9.08194312 45.83484517 18.02437601]\n",
      "Mean: 27.34568631679287\n",
      "Standard deviation: 22.179395334393543\n"
     ]
    }
   ],
   "source": [
    "from sklearn.model_selection import cross_val_score\n",
    "\n",
    "scores = cross_val_score(rf_regressor, x_train, y_train, scoring=\"neg_mean_squared_error\", cv=10)\n",
    "rf_regressor_scores = np.sqrt(-scores)\n",
    "\n",
    "def display_scores(scores):\n",
    "    print(\"Scores:\", scores)\n",
    "    print(\"Mean:\", scores.mean())\n",
    "    print(\"Standard deviation:\", scores.std())\n",
    "    \n",
    "display_scores(rf_regressor_scores)"
   ]
  },
  {
   "cell_type": "code",
   "execution_count": 28,
   "id": "a304b1c9",
   "metadata": {},
   "outputs": [],
   "source": [
    "from sklearn.model_selection import GridSearchCV"
   ]
  },
  {
   "cell_type": "code",
   "execution_count": 29,
   "id": "e2465b50",
   "metadata": {},
   "outputs": [
    {
     "data": {
      "text/html": [
       "<style>#sk-container-id-3 {color: black;}#sk-container-id-3 pre{padding: 0;}#sk-container-id-3 div.sk-toggleable {background-color: white;}#sk-container-id-3 label.sk-toggleable__label {cursor: pointer;display: block;width: 100%;margin-bottom: 0;padding: 0.3em;box-sizing: border-box;text-align: center;}#sk-container-id-3 label.sk-toggleable__label-arrow:before {content: \"▸\";float: left;margin-right: 0.25em;color: #696969;}#sk-container-id-3 label.sk-toggleable__label-arrow:hover:before {color: black;}#sk-container-id-3 div.sk-estimator:hover label.sk-toggleable__label-arrow:before {color: black;}#sk-container-id-3 div.sk-toggleable__content {max-height: 0;max-width: 0;overflow: hidden;text-align: left;background-color: #f0f8ff;}#sk-container-id-3 div.sk-toggleable__content pre {margin: 0.2em;color: black;border-radius: 0.25em;background-color: #f0f8ff;}#sk-container-id-3 input.sk-toggleable__control:checked~div.sk-toggleable__content {max-height: 200px;max-width: 100%;overflow: auto;}#sk-container-id-3 input.sk-toggleable__control:checked~label.sk-toggleable__label-arrow:before {content: \"▾\";}#sk-container-id-3 div.sk-estimator input.sk-toggleable__control:checked~label.sk-toggleable__label {background-color: #d4ebff;}#sk-container-id-3 div.sk-label input.sk-toggleable__control:checked~label.sk-toggleable__label {background-color: #d4ebff;}#sk-container-id-3 input.sk-hidden--visually {border: 0;clip: rect(1px 1px 1px 1px);clip: rect(1px, 1px, 1px, 1px);height: 1px;margin: -1px;overflow: hidden;padding: 0;position: absolute;width: 1px;}#sk-container-id-3 div.sk-estimator {font-family: monospace;background-color: #f0f8ff;border: 1px dotted black;border-radius: 0.25em;box-sizing: border-box;margin-bottom: 0.5em;}#sk-container-id-3 div.sk-estimator:hover {background-color: #d4ebff;}#sk-container-id-3 div.sk-parallel-item::after {content: \"\";width: 100%;border-bottom: 1px solid gray;flex-grow: 1;}#sk-container-id-3 div.sk-label:hover label.sk-toggleable__label {background-color: #d4ebff;}#sk-container-id-3 div.sk-serial::before {content: \"\";position: absolute;border-left: 1px solid gray;box-sizing: border-box;top: 0;bottom: 0;left: 50%;z-index: 0;}#sk-container-id-3 div.sk-serial {display: flex;flex-direction: column;align-items: center;background-color: white;padding-right: 0.2em;padding-left: 0.2em;position: relative;}#sk-container-id-3 div.sk-item {position: relative;z-index: 1;}#sk-container-id-3 div.sk-parallel {display: flex;align-items: stretch;justify-content: center;background-color: white;position: relative;}#sk-container-id-3 div.sk-item::before, #sk-container-id-3 div.sk-parallel-item::before {content: \"\";position: absolute;border-left: 1px solid gray;box-sizing: border-box;top: 0;bottom: 0;left: 50%;z-index: -1;}#sk-container-id-3 div.sk-parallel-item {display: flex;flex-direction: column;z-index: 1;position: relative;background-color: white;}#sk-container-id-3 div.sk-parallel-item:first-child::after {align-self: flex-end;width: 50%;}#sk-container-id-3 div.sk-parallel-item:last-child::after {align-self: flex-start;width: 50%;}#sk-container-id-3 div.sk-parallel-item:only-child::after {width: 0;}#sk-container-id-3 div.sk-dashed-wrapped {border: 1px dashed gray;margin: 0 0.4em 0.5em 0.4em;box-sizing: border-box;padding-bottom: 0.4em;background-color: white;}#sk-container-id-3 div.sk-label label {font-family: monospace;font-weight: bold;display: inline-block;line-height: 1.2em;}#sk-container-id-3 div.sk-label-container {text-align: center;}#sk-container-id-3 div.sk-container {/* jupyter's `normalize.less` sets `[hidden] { display: none; }` but bootstrap.min.css set `[hidden] { display: none !important; }` so we also need the `!important` here to be able to override the default hidden behavior on the sphinx rendered scikit-learn.org. See: https://github.com/scikit-learn/scikit-learn/issues/21755 */display: inline-block !important;position: relative;}#sk-container-id-3 div.sk-text-repr-fallback {display: none;}</style><div id=\"sk-container-id-3\" class=\"sk-top-container\"><div class=\"sk-text-repr-fallback\"><pre>GridSearchCV(cv=5, estimator=RandomForestRegressor(),\n",
       "             param_grid=[{&#x27;max_features&#x27;: [2, 4, 6, 8],\n",
       "                          &#x27;n_estimators&#x27;: [3, 10, 30]},\n",
       "                         {&#x27;bootstrap&#x27;: [False], &#x27;max_features&#x27;: [2, 3, 4],\n",
       "                          &#x27;n_estimators&#x27;: [3, 10]}],\n",
       "             scoring=&#x27;neg_mean_squared_error&#x27;)</pre><b>In a Jupyter environment, please rerun this cell to show the HTML representation or trust the notebook. <br />On GitHub, the HTML representation is unable to render, please try loading this page with nbviewer.org.</b></div><div class=\"sk-container\" hidden><div class=\"sk-item sk-dashed-wrapped\"><div class=\"sk-label-container\"><div class=\"sk-label sk-toggleable\"><input class=\"sk-toggleable__control sk-hidden--visually\" id=\"sk-estimator-id-3\" type=\"checkbox\" ><label for=\"sk-estimator-id-3\" class=\"sk-toggleable__label sk-toggleable__label-arrow\">GridSearchCV</label><div class=\"sk-toggleable__content\"><pre>GridSearchCV(cv=5, estimator=RandomForestRegressor(),\n",
       "             param_grid=[{&#x27;max_features&#x27;: [2, 4, 6, 8],\n",
       "                          &#x27;n_estimators&#x27;: [3, 10, 30]},\n",
       "                         {&#x27;bootstrap&#x27;: [False], &#x27;max_features&#x27;: [2, 3, 4],\n",
       "                          &#x27;n_estimators&#x27;: [3, 10]}],\n",
       "             scoring=&#x27;neg_mean_squared_error&#x27;)</pre></div></div></div><div class=\"sk-parallel\"><div class=\"sk-parallel-item\"><div class=\"sk-item\"><div class=\"sk-label-container\"><div class=\"sk-label sk-toggleable\"><input class=\"sk-toggleable__control sk-hidden--visually\" id=\"sk-estimator-id-4\" type=\"checkbox\" ><label for=\"sk-estimator-id-4\" class=\"sk-toggleable__label sk-toggleable__label-arrow\">estimator: RandomForestRegressor</label><div class=\"sk-toggleable__content\"><pre>RandomForestRegressor()</pre></div></div></div><div class=\"sk-serial\"><div class=\"sk-item\"><div class=\"sk-estimator sk-toggleable\"><input class=\"sk-toggleable__control sk-hidden--visually\" id=\"sk-estimator-id-5\" type=\"checkbox\" ><label for=\"sk-estimator-id-5\" class=\"sk-toggleable__label sk-toggleable__label-arrow\">RandomForestRegressor</label><div class=\"sk-toggleable__content\"><pre>RandomForestRegressor()</pre></div></div></div></div></div></div></div></div></div></div>"
      ],
      "text/plain": [
       "GridSearchCV(cv=5, estimator=RandomForestRegressor(),\n",
       "             param_grid=[{'max_features': [2, 4, 6, 8],\n",
       "                          'n_estimators': [3, 10, 30]},\n",
       "                         {'bootstrap': [False], 'max_features': [2, 3, 4],\n",
       "                          'n_estimators': [3, 10]}],\n",
       "             scoring='neg_mean_squared_error')"
      ]
     },
     "execution_count": 29,
     "metadata": {},
     "output_type": "execute_result"
    }
   ],
   "source": [
    "param_grid = [\n",
    "    {'n_estimators': [3, 10, 30], 'max_features': [2,4, 6, 8]},\n",
    "    {'bootstrap': [False], 'n_estimators': [3, 10], 'max_features': [2,3,4]},\n",
    "]\n",
    "\n",
    "forest_reg = RandomForestRegressor()\n",
    "\n",
    "grid_search = GridSearchCV(forest_reg, param_grid, cv=5,\n",
    "                          scoring = 'neg_mean_squared_error',\n",
    "                          )\n",
    "\n",
    "grid_search.fit(x_train, y_train)"
   ]
  },
  {
   "cell_type": "code",
   "execution_count": 36,
   "id": "9cc29e41",
   "metadata": {},
   "outputs": [
    {
     "data": {
      "text/plain": [
       "{'bootstrap': False, 'max_features': 3, 'n_estimators': 10}"
      ]
     },
     "execution_count": 36,
     "metadata": {},
     "output_type": "execute_result"
    }
   ],
   "source": [
    "grid_search.best_params_"
   ]
  },
  {
   "cell_type": "code",
   "execution_count": 37,
   "id": "806dd6b1",
   "metadata": {},
   "outputs": [
    {
     "data": {
      "text/html": [
       "<style>#sk-container-id-5 {color: black;}#sk-container-id-5 pre{padding: 0;}#sk-container-id-5 div.sk-toggleable {background-color: white;}#sk-container-id-5 label.sk-toggleable__label {cursor: pointer;display: block;width: 100%;margin-bottom: 0;padding: 0.3em;box-sizing: border-box;text-align: center;}#sk-container-id-5 label.sk-toggleable__label-arrow:before {content: \"▸\";float: left;margin-right: 0.25em;color: #696969;}#sk-container-id-5 label.sk-toggleable__label-arrow:hover:before {color: black;}#sk-container-id-5 div.sk-estimator:hover label.sk-toggleable__label-arrow:before {color: black;}#sk-container-id-5 div.sk-toggleable__content {max-height: 0;max-width: 0;overflow: hidden;text-align: left;background-color: #f0f8ff;}#sk-container-id-5 div.sk-toggleable__content pre {margin: 0.2em;color: black;border-radius: 0.25em;background-color: #f0f8ff;}#sk-container-id-5 input.sk-toggleable__control:checked~div.sk-toggleable__content {max-height: 200px;max-width: 100%;overflow: auto;}#sk-container-id-5 input.sk-toggleable__control:checked~label.sk-toggleable__label-arrow:before {content: \"▾\";}#sk-container-id-5 div.sk-estimator input.sk-toggleable__control:checked~label.sk-toggleable__label {background-color: #d4ebff;}#sk-container-id-5 div.sk-label input.sk-toggleable__control:checked~label.sk-toggleable__label {background-color: #d4ebff;}#sk-container-id-5 input.sk-hidden--visually {border: 0;clip: rect(1px 1px 1px 1px);clip: rect(1px, 1px, 1px, 1px);height: 1px;margin: -1px;overflow: hidden;padding: 0;position: absolute;width: 1px;}#sk-container-id-5 div.sk-estimator {font-family: monospace;background-color: #f0f8ff;border: 1px dotted black;border-radius: 0.25em;box-sizing: border-box;margin-bottom: 0.5em;}#sk-container-id-5 div.sk-estimator:hover {background-color: #d4ebff;}#sk-container-id-5 div.sk-parallel-item::after {content: \"\";width: 100%;border-bottom: 1px solid gray;flex-grow: 1;}#sk-container-id-5 div.sk-label:hover label.sk-toggleable__label {background-color: #d4ebff;}#sk-container-id-5 div.sk-serial::before {content: \"\";position: absolute;border-left: 1px solid gray;box-sizing: border-box;top: 0;bottom: 0;left: 50%;z-index: 0;}#sk-container-id-5 div.sk-serial {display: flex;flex-direction: column;align-items: center;background-color: white;padding-right: 0.2em;padding-left: 0.2em;position: relative;}#sk-container-id-5 div.sk-item {position: relative;z-index: 1;}#sk-container-id-5 div.sk-parallel {display: flex;align-items: stretch;justify-content: center;background-color: white;position: relative;}#sk-container-id-5 div.sk-item::before, #sk-container-id-5 div.sk-parallel-item::before {content: \"\";position: absolute;border-left: 1px solid gray;box-sizing: border-box;top: 0;bottom: 0;left: 50%;z-index: -1;}#sk-container-id-5 div.sk-parallel-item {display: flex;flex-direction: column;z-index: 1;position: relative;background-color: white;}#sk-container-id-5 div.sk-parallel-item:first-child::after {align-self: flex-end;width: 50%;}#sk-container-id-5 div.sk-parallel-item:last-child::after {align-self: flex-start;width: 50%;}#sk-container-id-5 div.sk-parallel-item:only-child::after {width: 0;}#sk-container-id-5 div.sk-dashed-wrapped {border: 1px dashed gray;margin: 0 0.4em 0.5em 0.4em;box-sizing: border-box;padding-bottom: 0.4em;background-color: white;}#sk-container-id-5 div.sk-label label {font-family: monospace;font-weight: bold;display: inline-block;line-height: 1.2em;}#sk-container-id-5 div.sk-label-container {text-align: center;}#sk-container-id-5 div.sk-container {/* jupyter's `normalize.less` sets `[hidden] { display: none; }` but bootstrap.min.css set `[hidden] { display: none !important; }` so we also need the `!important` here to be able to override the default hidden behavior on the sphinx rendered scikit-learn.org. See: https://github.com/scikit-learn/scikit-learn/issues/21755 */display: inline-block !important;position: relative;}#sk-container-id-5 div.sk-text-repr-fallback {display: none;}</style><div id=\"sk-container-id-5\" class=\"sk-top-container\"><div class=\"sk-text-repr-fallback\"><pre>RandomForestRegressor(bootstrap=False, max_features=3, n_estimators=10)</pre><b>In a Jupyter environment, please rerun this cell to show the HTML representation or trust the notebook. <br />On GitHub, the HTML representation is unable to render, please try loading this page with nbviewer.org.</b></div><div class=\"sk-container\" hidden><div class=\"sk-item\"><div class=\"sk-estimator sk-toggleable\"><input class=\"sk-toggleable__control sk-hidden--visually\" id=\"sk-estimator-id-7\" type=\"checkbox\" checked><label for=\"sk-estimator-id-7\" class=\"sk-toggleable__label sk-toggleable__label-arrow\">RandomForestRegressor</label><div class=\"sk-toggleable__content\"><pre>RandomForestRegressor(bootstrap=False, max_features=3, n_estimators=10)</pre></div></div></div></div></div>"
      ],
      "text/plain": [
       "RandomForestRegressor(bootstrap=False, max_features=3, n_estimators=10)"
      ]
     },
     "execution_count": 37,
     "metadata": {},
     "output_type": "execute_result"
    }
   ],
   "source": [
    "grid_search.best_estimator_"
   ]
  },
  {
   "cell_type": "code",
   "execution_count": 38,
   "id": "09c8e000",
   "metadata": {
    "scrolled": true
   },
   "outputs": [
    {
     "name": "stdout",
     "output_type": "stream",
     "text": [
      "83.80764192081277\n"
     ]
    }
   ],
   "source": [
    "final_model = grid_search.best_estimator_\n",
    "final_model_predictions = final_model.predict(x_test)\n",
    "\n",
    "final_mse = mean_squared_error(y_test, final_model_predictions)\n",
    "print(np.sqrt(final_mse))"
   ]
  },
  {
   "cell_type": "code",
   "execution_count": 45,
   "id": "3737bdb5",
   "metadata": {
    "scrolled": true
   },
   "outputs": [
    {
     "data": {
      "application/vnd.plotly.v1+json": {
       "config": {
        "plotlyServerURL": "https://plot.ly"
       },
       "data": [
        {
         "type": "scatter",
         "y": [
          257,
          139,
          0,
          10,
          16,
          341,
          37,
          160,
          0,
          43,
          30,
          275,
          0,
          1,
          3,
          119,
          9,
          82,
          121,
          21,
          1,
          288,
          51,
          65,
          32,
          36,
          0,
          10,
          0,
          77,
          1,
          55,
          3,
          43,
          68,
          12,
          20,
          38,
          71,
          77,
          0,
          0,
          1,
          0,
          28,
          68,
          139,
          12,
          0,
          44,
          40,
          0,
          83,
          1,
          121,
          0,
          0,
          140,
          710,
          0,
          133,
          2,
          13,
          78,
          12,
          1015,
          672,
          308,
          5,
          35,
          1,
          1231,
          27,
          1,
          109,
          58,
          0,
          229,
          2,
          17,
          37,
          12,
          1025,
          2,
          0,
          3,
          48,
          0,
          15,
          23,
          107,
          341,
          42,
          18,
          11,
          0,
          245,
          0,
          21,
          108,
          41,
          8,
          0,
          0,
          6,
          5068,
          70,
          0,
          0,
          172,
          54,
          101,
          67,
          424,
          3,
          26,
          17,
          11,
          12,
          57,
          29,
          514,
          23,
          296,
          0,
          19,
          0,
          0,
          0,
          21,
          265,
          25,
          69,
          160,
          23,
          244,
          0,
          17,
          7,
          45,
          266,
          38,
          52,
          123,
          0,
          0,
          51,
          457,
          1,
          38,
          5,
          30,
          4,
          62,
          9,
          42,
          65,
          1,
          47,
          1243,
          483,
          45,
          2,
          7,
          75,
          0,
          61,
          33,
          42,
          0,
          92,
          18,
          199,
          674,
          77,
          164,
          188,
          30,
          1863,
          26,
          0,
          119,
          16,
          1870,
          24,
          150,
          0,
          3,
          38,
          4,
          32,
          0,
          30,
          380,
          236,
          0,
          60,
          0,
          170,
          22,
          53,
          117,
          1,
          82,
          20,
          24,
          23,
          0,
          195,
          30,
          577,
          0,
          13,
          188,
          15,
          17,
          110,
          21,
          11,
          1,
          0,
          697,
          24,
          1,
          0,
          60,
          78,
          143,
          98,
          3,
          159,
          338,
          34,
          83,
          20,
          0,
          12,
          119,
          67,
          46,
          55,
          0,
          65,
          24,
          21,
          5,
          427,
          26,
          2075,
          1303,
          39,
          6,
          0,
          18,
          19,
          34,
          82,
          70,
          66,
          44,
          764,
          548,
          726,
          0,
          322,
          165,
          101,
          0,
          0,
          43,
          0,
          0,
          49,
          10,
          0,
          4,
          59,
          0,
          221,
          39,
          7,
          0,
          96,
          0,
          46,
          632,
          174,
          180,
          0,
          156,
          0,
          0,
          16,
          0,
          0,
          227,
          0,
          8,
          1,
          2,
          18,
          96,
          108,
          98,
          63,
          116,
          145,
          0,
          210,
          0,
          30,
          18,
          5,
          104,
          32,
          52,
          0,
          487,
          0,
          0,
          33,
          0,
          0,
          0,
          57,
          32,
          50,
          119,
          901,
          135,
          85,
          73,
          0,
          1,
          35,
          99,
          73,
          2,
          23,
          43,
          376,
          5,
          3,
          213,
          17,
          0,
          116,
          342,
          69,
          20,
          274,
          318,
          8,
          9,
          0,
          5,
          9,
          0,
          0,
          0,
          30,
          329,
          47,
          16,
          0,
          0,
          0,
          53,
          1431,
          7,
          19,
          41,
          239,
          1,
          1878,
          63,
          6,
          114,
          3
         ]
        },
        {
         "type": "scatter",
         "y": [
          256.4,
          139,
          0,
          10,
          16,
          346.5,
          37,
          157.3,
          0,
          43,
          30,
          274.1,
          0,
          1,
          3,
          117.7,
          9,
          82,
          118.9,
          21,
          1,
          289.5,
          51.7,
          65.5,
          32,
          36,
          0,
          10,
          0,
          77,
          1,
          55,
          3,
          43,
          67,
          12,
          20,
          38,
          71,
          77,
          0,
          0,
          1,
          0,
          28,
          67,
          139.4,
          12,
          0,
          44,
          40,
          0,
          83,
          1,
          118.9,
          0,
          0,
          139.4,
          673.1,
          0,
          133.6,
          2,
          13,
          78,
          12,
          1015,
          672.3,
          304.8,
          5,
          35,
          1,
          1246.8,
          27,
          1,
          108.4,
          58,
          0,
          221.8,
          2,
          17,
          37,
          12,
          1048.8,
          2,
          0,
          3,
          48,
          0,
          15,
          23,
          107,
          346.5,
          42,
          18,
          11,
          0,
          244.8,
          0,
          21,
          108.6,
          41,
          8,
          0,
          0,
          6,
          3478.8,
          70,
          0,
          0,
          173.8,
          54,
          101.4,
          67,
          425,
          3,
          26,
          17,
          11,
          12,
          57,
          29,
          507,
          23,
          297.8,
          0,
          19,
          0,
          0,
          0,
          21,
          265.5,
          25,
          69,
          158,
          23,
          247.4,
          0,
          17,
          7,
          45,
          265.9,
          38,
          52,
          118.7,
          0,
          0,
          51.1,
          448.2,
          1,
          38,
          5,
          30,
          4,
          62,
          9,
          42,
          66.2,
          1,
          47,
          1254,
          486.5,
          45,
          2,
          7,
          75,
          0,
          61,
          33,
          42,
          0,
          90.3,
          18,
          201,
          692.6,
          77,
          165.4,
          187.8,
          30,
          1803.2,
          26,
          0,
          118,
          16,
          1803.2,
          24.7,
          148,
          0,
          3,
          38,
          4,
          32,
          0,
          30,
          375.8,
          236.8,
          0,
          60,
          0,
          172,
          22,
          53,
          119.8,
          1,
          82,
          20,
          24.7,
          23,
          0,
          195,
          30,
          598.2,
          0,
          13,
          187.8,
          15,
          17,
          110.5,
          21,
          11,
          1,
          0,
          686.1,
          24.7,
          1,
          0,
          60,
          78,
          142,
          96.3,
          3,
          158,
          325,
          34,
          83,
          20,
          0,
          12,
          117.7,
          67,
          46,
          55,
          0,
          66.2,
          24,
          21,
          5,
          425,
          26,
          2174.9,
          1268.4,
          39,
          6,
          0,
          18,
          19,
          34,
          82,
          70,
          66.5,
          44,
          747.6,
          551,
          755.4,
          0,
          329.6,
          165,
          101.6,
          0,
          0,
          43,
          0,
          0,
          49,
          10,
          0,
          4,
          59,
          0,
          219.1,
          39,
          7,
          0,
          96,
          0,
          46,
          650.8,
          176,
          174.8,
          0,
          154.2,
          0,
          0,
          16,
          0,
          0,
          221.2,
          0,
          8,
          1,
          2,
          18,
          96.7,
          108.3,
          97,
          63,
          114.7,
          145.9,
          0,
          208.7,
          0,
          30,
          18,
          5,
          104,
          32,
          51.9,
          0,
          486.5,
          0,
          0,
          33,
          0,
          0,
          0,
          57,
          32,
          50,
          117.7,
          915,
          135,
          84,
          73,
          0,
          1,
          35,
          96.3,
          72.7,
          2,
          23,
          43,
          378,
          5,
          3,
          215,
          17,
          0,
          114.7,
          346.5,
          69,
          20,
          274,
          321.3,
          8,
          9,
          0,
          5,
          9,
          0,
          0,
          0,
          30,
          325.9,
          47,
          16,
          0,
          0,
          0,
          53,
          1278,
          7,
          19,
          41,
          238,
          1,
          2174.9,
          63.3,
          6,
          114.4,
          3
         ]
        }
       ],
       "layout": {
        "template": {
         "data": {
          "bar": [
           {
            "error_x": {
             "color": "#2a3f5f"
            },
            "error_y": {
             "color": "#2a3f5f"
            },
            "marker": {
             "line": {
              "color": "#E5ECF6",
              "width": 0.5
             },
             "pattern": {
              "fillmode": "overlay",
              "size": 10,
              "solidity": 0.2
             }
            },
            "type": "bar"
           }
          ],
          "barpolar": [
           {
            "marker": {
             "line": {
              "color": "#E5ECF6",
              "width": 0.5
             },
             "pattern": {
              "fillmode": "overlay",
              "size": 10,
              "solidity": 0.2
             }
            },
            "type": "barpolar"
           }
          ],
          "carpet": [
           {
            "aaxis": {
             "endlinecolor": "#2a3f5f",
             "gridcolor": "white",
             "linecolor": "white",
             "minorgridcolor": "white",
             "startlinecolor": "#2a3f5f"
            },
            "baxis": {
             "endlinecolor": "#2a3f5f",
             "gridcolor": "white",
             "linecolor": "white",
             "minorgridcolor": "white",
             "startlinecolor": "#2a3f5f"
            },
            "type": "carpet"
           }
          ],
          "choropleth": [
           {
            "colorbar": {
             "outlinewidth": 0,
             "ticks": ""
            },
            "type": "choropleth"
           }
          ],
          "contour": [
           {
            "colorbar": {
             "outlinewidth": 0,
             "ticks": ""
            },
            "colorscale": [
             [
              0,
              "#0d0887"
             ],
             [
              0.1111111111111111,
              "#46039f"
             ],
             [
              0.2222222222222222,
              "#7201a8"
             ],
             [
              0.3333333333333333,
              "#9c179e"
             ],
             [
              0.4444444444444444,
              "#bd3786"
             ],
             [
              0.5555555555555556,
              "#d8576b"
             ],
             [
              0.6666666666666666,
              "#ed7953"
             ],
             [
              0.7777777777777778,
              "#fb9f3a"
             ],
             [
              0.8888888888888888,
              "#fdca26"
             ],
             [
              1,
              "#f0f921"
             ]
            ],
            "type": "contour"
           }
          ],
          "contourcarpet": [
           {
            "colorbar": {
             "outlinewidth": 0,
             "ticks": ""
            },
            "type": "contourcarpet"
           }
          ],
          "heatmap": [
           {
            "colorbar": {
             "outlinewidth": 0,
             "ticks": ""
            },
            "colorscale": [
             [
              0,
              "#0d0887"
             ],
             [
              0.1111111111111111,
              "#46039f"
             ],
             [
              0.2222222222222222,
              "#7201a8"
             ],
             [
              0.3333333333333333,
              "#9c179e"
             ],
             [
              0.4444444444444444,
              "#bd3786"
             ],
             [
              0.5555555555555556,
              "#d8576b"
             ],
             [
              0.6666666666666666,
              "#ed7953"
             ],
             [
              0.7777777777777778,
              "#fb9f3a"
             ],
             [
              0.8888888888888888,
              "#fdca26"
             ],
             [
              1,
              "#f0f921"
             ]
            ],
            "type": "heatmap"
           }
          ],
          "heatmapgl": [
           {
            "colorbar": {
             "outlinewidth": 0,
             "ticks": ""
            },
            "colorscale": [
             [
              0,
              "#0d0887"
             ],
             [
              0.1111111111111111,
              "#46039f"
             ],
             [
              0.2222222222222222,
              "#7201a8"
             ],
             [
              0.3333333333333333,
              "#9c179e"
             ],
             [
              0.4444444444444444,
              "#bd3786"
             ],
             [
              0.5555555555555556,
              "#d8576b"
             ],
             [
              0.6666666666666666,
              "#ed7953"
             ],
             [
              0.7777777777777778,
              "#fb9f3a"
             ],
             [
              0.8888888888888888,
              "#fdca26"
             ],
             [
              1,
              "#f0f921"
             ]
            ],
            "type": "heatmapgl"
           }
          ],
          "histogram": [
           {
            "marker": {
             "pattern": {
              "fillmode": "overlay",
              "size": 10,
              "solidity": 0.2
             }
            },
            "type": "histogram"
           }
          ],
          "histogram2d": [
           {
            "colorbar": {
             "outlinewidth": 0,
             "ticks": ""
            },
            "colorscale": [
             [
              0,
              "#0d0887"
             ],
             [
              0.1111111111111111,
              "#46039f"
             ],
             [
              0.2222222222222222,
              "#7201a8"
             ],
             [
              0.3333333333333333,
              "#9c179e"
             ],
             [
              0.4444444444444444,
              "#bd3786"
             ],
             [
              0.5555555555555556,
              "#d8576b"
             ],
             [
              0.6666666666666666,
              "#ed7953"
             ],
             [
              0.7777777777777778,
              "#fb9f3a"
             ],
             [
              0.8888888888888888,
              "#fdca26"
             ],
             [
              1,
              "#f0f921"
             ]
            ],
            "type": "histogram2d"
           }
          ],
          "histogram2dcontour": [
           {
            "colorbar": {
             "outlinewidth": 0,
             "ticks": ""
            },
            "colorscale": [
             [
              0,
              "#0d0887"
             ],
             [
              0.1111111111111111,
              "#46039f"
             ],
             [
              0.2222222222222222,
              "#7201a8"
             ],
             [
              0.3333333333333333,
              "#9c179e"
             ],
             [
              0.4444444444444444,
              "#bd3786"
             ],
             [
              0.5555555555555556,
              "#d8576b"
             ],
             [
              0.6666666666666666,
              "#ed7953"
             ],
             [
              0.7777777777777778,
              "#fb9f3a"
             ],
             [
              0.8888888888888888,
              "#fdca26"
             ],
             [
              1,
              "#f0f921"
             ]
            ],
            "type": "histogram2dcontour"
           }
          ],
          "mesh3d": [
           {
            "colorbar": {
             "outlinewidth": 0,
             "ticks": ""
            },
            "type": "mesh3d"
           }
          ],
          "parcoords": [
           {
            "line": {
             "colorbar": {
              "outlinewidth": 0,
              "ticks": ""
             }
            },
            "type": "parcoords"
           }
          ],
          "pie": [
           {
            "automargin": true,
            "type": "pie"
           }
          ],
          "scatter": [
           {
            "fillpattern": {
             "fillmode": "overlay",
             "size": 10,
             "solidity": 0.2
            },
            "type": "scatter"
           }
          ],
          "scatter3d": [
           {
            "line": {
             "colorbar": {
              "outlinewidth": 0,
              "ticks": ""
             }
            },
            "marker": {
             "colorbar": {
              "outlinewidth": 0,
              "ticks": ""
             }
            },
            "type": "scatter3d"
           }
          ],
          "scattercarpet": [
           {
            "marker": {
             "colorbar": {
              "outlinewidth": 0,
              "ticks": ""
             }
            },
            "type": "scattercarpet"
           }
          ],
          "scattergeo": [
           {
            "marker": {
             "colorbar": {
              "outlinewidth": 0,
              "ticks": ""
             }
            },
            "type": "scattergeo"
           }
          ],
          "scattergl": [
           {
            "marker": {
             "colorbar": {
              "outlinewidth": 0,
              "ticks": ""
             }
            },
            "type": "scattergl"
           }
          ],
          "scattermapbox": [
           {
            "marker": {
             "colorbar": {
              "outlinewidth": 0,
              "ticks": ""
             }
            },
            "type": "scattermapbox"
           }
          ],
          "scatterpolar": [
           {
            "marker": {
             "colorbar": {
              "outlinewidth": 0,
              "ticks": ""
             }
            },
            "type": "scatterpolar"
           }
          ],
          "scatterpolargl": [
           {
            "marker": {
             "colorbar": {
              "outlinewidth": 0,
              "ticks": ""
             }
            },
            "type": "scatterpolargl"
           }
          ],
          "scatterternary": [
           {
            "marker": {
             "colorbar": {
              "outlinewidth": 0,
              "ticks": ""
             }
            },
            "type": "scatterternary"
           }
          ],
          "surface": [
           {
            "colorbar": {
             "outlinewidth": 0,
             "ticks": ""
            },
            "colorscale": [
             [
              0,
              "#0d0887"
             ],
             [
              0.1111111111111111,
              "#46039f"
             ],
             [
              0.2222222222222222,
              "#7201a8"
             ],
             [
              0.3333333333333333,
              "#9c179e"
             ],
             [
              0.4444444444444444,
              "#bd3786"
             ],
             [
              0.5555555555555556,
              "#d8576b"
             ],
             [
              0.6666666666666666,
              "#ed7953"
             ],
             [
              0.7777777777777778,
              "#fb9f3a"
             ],
             [
              0.8888888888888888,
              "#fdca26"
             ],
             [
              1,
              "#f0f921"
             ]
            ],
            "type": "surface"
           }
          ],
          "table": [
           {
            "cells": {
             "fill": {
              "color": "#EBF0F8"
             },
             "line": {
              "color": "white"
             }
            },
            "header": {
             "fill": {
              "color": "#C8D4E3"
             },
             "line": {
              "color": "white"
             }
            },
            "type": "table"
           }
          ]
         },
         "layout": {
          "annotationdefaults": {
           "arrowcolor": "#2a3f5f",
           "arrowhead": 0,
           "arrowwidth": 1
          },
          "autotypenumbers": "strict",
          "coloraxis": {
           "colorbar": {
            "outlinewidth": 0,
            "ticks": ""
           }
          },
          "colorscale": {
           "diverging": [
            [
             0,
             "#8e0152"
            ],
            [
             0.1,
             "#c51b7d"
            ],
            [
             0.2,
             "#de77ae"
            ],
            [
             0.3,
             "#f1b6da"
            ],
            [
             0.4,
             "#fde0ef"
            ],
            [
             0.5,
             "#f7f7f7"
            ],
            [
             0.6,
             "#e6f5d0"
            ],
            [
             0.7,
             "#b8e186"
            ],
            [
             0.8,
             "#7fbc41"
            ],
            [
             0.9,
             "#4d9221"
            ],
            [
             1,
             "#276419"
            ]
           ],
           "sequential": [
            [
             0,
             "#0d0887"
            ],
            [
             0.1111111111111111,
             "#46039f"
            ],
            [
             0.2222222222222222,
             "#7201a8"
            ],
            [
             0.3333333333333333,
             "#9c179e"
            ],
            [
             0.4444444444444444,
             "#bd3786"
            ],
            [
             0.5555555555555556,
             "#d8576b"
            ],
            [
             0.6666666666666666,
             "#ed7953"
            ],
            [
             0.7777777777777778,
             "#fb9f3a"
            ],
            [
             0.8888888888888888,
             "#fdca26"
            ],
            [
             1,
             "#f0f921"
            ]
           ],
           "sequentialminus": [
            [
             0,
             "#0d0887"
            ],
            [
             0.1111111111111111,
             "#46039f"
            ],
            [
             0.2222222222222222,
             "#7201a8"
            ],
            [
             0.3333333333333333,
             "#9c179e"
            ],
            [
             0.4444444444444444,
             "#bd3786"
            ],
            [
             0.5555555555555556,
             "#d8576b"
            ],
            [
             0.6666666666666666,
             "#ed7953"
            ],
            [
             0.7777777777777778,
             "#fb9f3a"
            ],
            [
             0.8888888888888888,
             "#fdca26"
            ],
            [
             1,
             "#f0f921"
            ]
           ]
          },
          "colorway": [
           "#636efa",
           "#EF553B",
           "#00cc96",
           "#ab63fa",
           "#FFA15A",
           "#19d3f3",
           "#FF6692",
           "#B6E880",
           "#FF97FF",
           "#FECB52"
          ],
          "font": {
           "color": "#2a3f5f"
          },
          "geo": {
           "bgcolor": "white",
           "lakecolor": "white",
           "landcolor": "#E5ECF6",
           "showlakes": true,
           "showland": true,
           "subunitcolor": "white"
          },
          "hoverlabel": {
           "align": "left"
          },
          "hovermode": "closest",
          "mapbox": {
           "style": "light"
          },
          "paper_bgcolor": "white",
          "plot_bgcolor": "#E5ECF6",
          "polar": {
           "angularaxis": {
            "gridcolor": "white",
            "linecolor": "white",
            "ticks": ""
           },
           "bgcolor": "#E5ECF6",
           "radialaxis": {
            "gridcolor": "white",
            "linecolor": "white",
            "ticks": ""
           }
          },
          "scene": {
           "xaxis": {
            "backgroundcolor": "#E5ECF6",
            "gridcolor": "white",
            "gridwidth": 2,
            "linecolor": "white",
            "showbackground": true,
            "ticks": "",
            "zerolinecolor": "white"
           },
           "yaxis": {
            "backgroundcolor": "#E5ECF6",
            "gridcolor": "white",
            "gridwidth": 2,
            "linecolor": "white",
            "showbackground": true,
            "ticks": "",
            "zerolinecolor": "white"
           },
           "zaxis": {
            "backgroundcolor": "#E5ECF6",
            "gridcolor": "white",
            "gridwidth": 2,
            "linecolor": "white",
            "showbackground": true,
            "ticks": "",
            "zerolinecolor": "white"
           }
          },
          "shapedefaults": {
           "line": {
            "color": "#2a3f5f"
           }
          },
          "ternary": {
           "aaxis": {
            "gridcolor": "white",
            "linecolor": "white",
            "ticks": ""
           },
           "baxis": {
            "gridcolor": "white",
            "linecolor": "white",
            "ticks": ""
           },
           "bgcolor": "#E5ECF6",
           "caxis": {
            "gridcolor": "white",
            "linecolor": "white",
            "ticks": ""
           }
          },
          "title": {
           "x": 0.05
          },
          "xaxis": {
           "automargin": true,
           "gridcolor": "white",
           "linecolor": "white",
           "ticks": "",
           "title": {
            "standoff": 15
           },
           "zerolinecolor": "white",
           "zerolinewidth": 2
          },
          "yaxis": {
           "automargin": true,
           "gridcolor": "white",
           "linecolor": "white",
           "ticks": "",
           "title": {
            "standoff": 15
           },
           "zerolinecolor": "white",
           "zerolinewidth": 2
          }
         }
        }
       }
      },
      "text/html": [
       "<div>                            <div id=\"9675298d-2226-46de-bf3a-e9efb92d8fd0\" class=\"plotly-graph-div\" style=\"height:525px; width:100%;\"></div>            <script type=\"text/javascript\">                require([\"plotly\"], function(Plotly) {                    window.PLOTLYENV=window.PLOTLYENV || {};                                    if (document.getElementById(\"9675298d-2226-46de-bf3a-e9efb92d8fd0\")) {                    Plotly.newPlot(                        \"9675298d-2226-46de-bf3a-e9efb92d8fd0\",                        [{\"y\":[257,139,0,10,16,341,37,160,0,43,30,275,0,1,3,119,9,82,121,21,1,288,51,65,32,36,0,10,0,77,1,55,3,43,68,12,20,38,71,77,0,0,1,0,28,68,139,12,0,44,40,0,83,1,121,0,0,140,710,0,133,2,13,78,12,1015,672,308,5,35,1,1231,27,1,109,58,0,229,2,17,37,12,1025,2,0,3,48,0,15,23,107,341,42,18,11,0,245,0,21,108,41,8,0,0,6,5068,70,0,0,172,54,101,67,424,3,26,17,11,12,57,29,514,23,296,0,19,0,0,0,21,265,25,69,160,23,244,0,17,7,45,266,38,52,123,0,0,51,457,1,38,5,30,4,62,9,42,65,1,47,1243,483,45,2,7,75,0,61,33,42,0,92,18,199,674,77,164,188,30,1863,26,0,119,16,1870,24,150,0,3,38,4,32,0,30,380,236,0,60,0,170,22,53,117,1,82,20,24,23,0,195,30,577,0,13,188,15,17,110,21,11,1,0,697,24,1,0,60,78,143,98,3,159,338,34,83,20,0,12,119,67,46,55,0,65,24,21,5,427,26,2075,1303,39,6,0,18,19,34,82,70,66,44,764,548,726,0,322,165,101,0,0,43,0,0,49,10,0,4,59,0,221,39,7,0,96,0,46,632,174,180,0,156,0,0,16,0,0,227,0,8,1,2,18,96,108,98,63,116,145,0,210,0,30,18,5,104,32,52,0,487,0,0,33,0,0,0,57,32,50,119,901,135,85,73,0,1,35,99,73,2,23,43,376,5,3,213,17,0,116,342,69,20,274,318,8,9,0,5,9,0,0,0,30,329,47,16,0,0,0,53,1431,7,19,41,239,1,1878,63,6,114,3],\"type\":\"scatter\"},{\"y\":[256.4,139.0,0.0,10.0,16.0,346.5,37.0,157.3,0.0,43.0,30.0,274.1,0.0,1.0,3.0,117.7,9.0,82.0,118.9,21.0,1.0,289.5,51.7,65.5,32.0,36.0,0.0,10.0,0.0,77.0,1.0,55.0,3.0,43.0,67.0,12.0,20.0,38.0,71.0,77.0,0.0,0.0,1.0,0.0,28.0,67.0,139.4,12.0,0.0,44.0,40.0,0.0,83.0,1.0,118.9,0.0,0.0,139.4,673.1,0.0,133.6,2.0,13.0,78.0,12.0,1015.0,672.3,304.8,5.0,35.0,1.0,1246.8,27.0,1.0,108.4,58.0,0.0,221.8,2.0,17.0,37.0,12.0,1048.8,2.0,0.0,3.0,48.0,0.0,15.0,23.0,107.0,346.5,42.0,18.0,11.0,0.0,244.8,0.0,21.0,108.6,41.0,8.0,0.0,0.0,6.0,3478.8,70.0,0.0,0.0,173.8,54.0,101.4,67.0,425.0,3.0,26.0,17.0,11.0,12.0,57.0,29.0,507.0,23.0,297.8,0.0,19.0,0.0,0.0,0.0,21.0,265.5,25.0,69.0,158.0,23.0,247.4,0.0,17.0,7.0,45.0,265.9,38.0,52.0,118.7,0.0,0.0,51.1,448.2,1.0,38.0,5.0,30.0,4.0,62.0,9.0,42.0,66.2,1.0,47.0,1254.0,486.5,45.0,2.0,7.0,75.0,0.0,61.0,33.0,42.0,0.0,90.3,18.0,201.0,692.6,77.0,165.4,187.8,30.0,1803.2,26.0,0.0,118.0,16.0,1803.2,24.7,148.0,0.0,3.0,38.0,4.0,32.0,0.0,30.0,375.8,236.8,0.0,60.0,0.0,172.0,22.0,53.0,119.8,1.0,82.0,20.0,24.7,23.0,0.0,195.0,30.0,598.2,0.0,13.0,187.8,15.0,17.0,110.5,21.0,11.0,1.0,0.0,686.1,24.7,1.0,0.0,60.0,78.0,142.0,96.3,3.0,158.0,325.0,34.0,83.0,20.0,0.0,12.0,117.7,67.0,46.0,55.0,0.0,66.2,24.0,21.0,5.0,425.0,26.0,2174.9,1268.4,39.0,6.0,0.0,18.0,19.0,34.0,82.0,70.0,66.5,44.0,747.6,551.0,755.4,0.0,329.6,165.0,101.6,0.0,0.0,43.0,0.0,0.0,49.0,10.0,0.0,4.0,59.0,0.0,219.1,39.0,7.0,0.0,96.0,0.0,46.0,650.8,176.0,174.8,0.0,154.2,0.0,0.0,16.0,0.0,0.0,221.2,0.0,8.0,1.0,2.0,18.0,96.7,108.3,97.0,63.0,114.7,145.9,0.0,208.7,0.0,30.0,18.0,5.0,104.0,32.0,51.9,0.0,486.5,0.0,0.0,33.0,0.0,0.0,0.0,57.0,32.0,50.0,117.7,915.0,135.0,84.0,73.0,0.0,1.0,35.0,96.3,72.7,2.0,23.0,43.0,378.0,5.0,3.0,215.0,17.0,0.0,114.7,346.5,69.0,20.0,274.0,321.3,8.0,9.0,0.0,5.0,9.0,0.0,0.0,0.0,30.0,325.9,47.0,16.0,0.0,0.0,0.0,53.0,1278.0,7.0,19.0,41.0,238.0,1.0,2174.9,63.3,6.0,114.4,3.0],\"type\":\"scatter\"}],                        {\"template\":{\"data\":{\"histogram2dcontour\":[{\"type\":\"histogram2dcontour\",\"colorbar\":{\"outlinewidth\":0,\"ticks\":\"\"},\"colorscale\":[[0.0,\"#0d0887\"],[0.1111111111111111,\"#46039f\"],[0.2222222222222222,\"#7201a8\"],[0.3333333333333333,\"#9c179e\"],[0.4444444444444444,\"#bd3786\"],[0.5555555555555556,\"#d8576b\"],[0.6666666666666666,\"#ed7953\"],[0.7777777777777778,\"#fb9f3a\"],[0.8888888888888888,\"#fdca26\"],[1.0,\"#f0f921\"]]}],\"choropleth\":[{\"type\":\"choropleth\",\"colorbar\":{\"outlinewidth\":0,\"ticks\":\"\"}}],\"histogram2d\":[{\"type\":\"histogram2d\",\"colorbar\":{\"outlinewidth\":0,\"ticks\":\"\"},\"colorscale\":[[0.0,\"#0d0887\"],[0.1111111111111111,\"#46039f\"],[0.2222222222222222,\"#7201a8\"],[0.3333333333333333,\"#9c179e\"],[0.4444444444444444,\"#bd3786\"],[0.5555555555555556,\"#d8576b\"],[0.6666666666666666,\"#ed7953\"],[0.7777777777777778,\"#fb9f3a\"],[0.8888888888888888,\"#fdca26\"],[1.0,\"#f0f921\"]]}],\"heatmap\":[{\"type\":\"heatmap\",\"colorbar\":{\"outlinewidth\":0,\"ticks\":\"\"},\"colorscale\":[[0.0,\"#0d0887\"],[0.1111111111111111,\"#46039f\"],[0.2222222222222222,\"#7201a8\"],[0.3333333333333333,\"#9c179e\"],[0.4444444444444444,\"#bd3786\"],[0.5555555555555556,\"#d8576b\"],[0.6666666666666666,\"#ed7953\"],[0.7777777777777778,\"#fb9f3a\"],[0.8888888888888888,\"#fdca26\"],[1.0,\"#f0f921\"]]}],\"heatmapgl\":[{\"type\":\"heatmapgl\",\"colorbar\":{\"outlinewidth\":0,\"ticks\":\"\"},\"colorscale\":[[0.0,\"#0d0887\"],[0.1111111111111111,\"#46039f\"],[0.2222222222222222,\"#7201a8\"],[0.3333333333333333,\"#9c179e\"],[0.4444444444444444,\"#bd3786\"],[0.5555555555555556,\"#d8576b\"],[0.6666666666666666,\"#ed7953\"],[0.7777777777777778,\"#fb9f3a\"],[0.8888888888888888,\"#fdca26\"],[1.0,\"#f0f921\"]]}],\"contourcarpet\":[{\"type\":\"contourcarpet\",\"colorbar\":{\"outlinewidth\":0,\"ticks\":\"\"}}],\"contour\":[{\"type\":\"contour\",\"colorbar\":{\"outlinewidth\":0,\"ticks\":\"\"},\"colorscale\":[[0.0,\"#0d0887\"],[0.1111111111111111,\"#46039f\"],[0.2222222222222222,\"#7201a8\"],[0.3333333333333333,\"#9c179e\"],[0.4444444444444444,\"#bd3786\"],[0.5555555555555556,\"#d8576b\"],[0.6666666666666666,\"#ed7953\"],[0.7777777777777778,\"#fb9f3a\"],[0.8888888888888888,\"#fdca26\"],[1.0,\"#f0f921\"]]}],\"surface\":[{\"type\":\"surface\",\"colorbar\":{\"outlinewidth\":0,\"ticks\":\"\"},\"colorscale\":[[0.0,\"#0d0887\"],[0.1111111111111111,\"#46039f\"],[0.2222222222222222,\"#7201a8\"],[0.3333333333333333,\"#9c179e\"],[0.4444444444444444,\"#bd3786\"],[0.5555555555555556,\"#d8576b\"],[0.6666666666666666,\"#ed7953\"],[0.7777777777777778,\"#fb9f3a\"],[0.8888888888888888,\"#fdca26\"],[1.0,\"#f0f921\"]]}],\"mesh3d\":[{\"type\":\"mesh3d\",\"colorbar\":{\"outlinewidth\":0,\"ticks\":\"\"}}],\"scatter\":[{\"fillpattern\":{\"fillmode\":\"overlay\",\"size\":10,\"solidity\":0.2},\"type\":\"scatter\"}],\"parcoords\":[{\"type\":\"parcoords\",\"line\":{\"colorbar\":{\"outlinewidth\":0,\"ticks\":\"\"}}}],\"scatterpolargl\":[{\"type\":\"scatterpolargl\",\"marker\":{\"colorbar\":{\"outlinewidth\":0,\"ticks\":\"\"}}}],\"bar\":[{\"error_x\":{\"color\":\"#2a3f5f\"},\"error_y\":{\"color\":\"#2a3f5f\"},\"marker\":{\"line\":{\"color\":\"#E5ECF6\",\"width\":0.5},\"pattern\":{\"fillmode\":\"overlay\",\"size\":10,\"solidity\":0.2}},\"type\":\"bar\"}],\"scattergeo\":[{\"type\":\"scattergeo\",\"marker\":{\"colorbar\":{\"outlinewidth\":0,\"ticks\":\"\"}}}],\"scatterpolar\":[{\"type\":\"scatterpolar\",\"marker\":{\"colorbar\":{\"outlinewidth\":0,\"ticks\":\"\"}}}],\"histogram\":[{\"marker\":{\"pattern\":{\"fillmode\":\"overlay\",\"size\":10,\"solidity\":0.2}},\"type\":\"histogram\"}],\"scattergl\":[{\"type\":\"scattergl\",\"marker\":{\"colorbar\":{\"outlinewidth\":0,\"ticks\":\"\"}}}],\"scatter3d\":[{\"type\":\"scatter3d\",\"line\":{\"colorbar\":{\"outlinewidth\":0,\"ticks\":\"\"}},\"marker\":{\"colorbar\":{\"outlinewidth\":0,\"ticks\":\"\"}}}],\"scattermapbox\":[{\"type\":\"scattermapbox\",\"marker\":{\"colorbar\":{\"outlinewidth\":0,\"ticks\":\"\"}}}],\"scatterternary\":[{\"type\":\"scatterternary\",\"marker\":{\"colorbar\":{\"outlinewidth\":0,\"ticks\":\"\"}}}],\"scattercarpet\":[{\"type\":\"scattercarpet\",\"marker\":{\"colorbar\":{\"outlinewidth\":0,\"ticks\":\"\"}}}],\"carpet\":[{\"aaxis\":{\"endlinecolor\":\"#2a3f5f\",\"gridcolor\":\"white\",\"linecolor\":\"white\",\"minorgridcolor\":\"white\",\"startlinecolor\":\"#2a3f5f\"},\"baxis\":{\"endlinecolor\":\"#2a3f5f\",\"gridcolor\":\"white\",\"linecolor\":\"white\",\"minorgridcolor\":\"white\",\"startlinecolor\":\"#2a3f5f\"},\"type\":\"carpet\"}],\"table\":[{\"cells\":{\"fill\":{\"color\":\"#EBF0F8\"},\"line\":{\"color\":\"white\"}},\"header\":{\"fill\":{\"color\":\"#C8D4E3\"},\"line\":{\"color\":\"white\"}},\"type\":\"table\"}],\"barpolar\":[{\"marker\":{\"line\":{\"color\":\"#E5ECF6\",\"width\":0.5},\"pattern\":{\"fillmode\":\"overlay\",\"size\":10,\"solidity\":0.2}},\"type\":\"barpolar\"}],\"pie\":[{\"automargin\":true,\"type\":\"pie\"}]},\"layout\":{\"autotypenumbers\":\"strict\",\"colorway\":[\"#636efa\",\"#EF553B\",\"#00cc96\",\"#ab63fa\",\"#FFA15A\",\"#19d3f3\",\"#FF6692\",\"#B6E880\",\"#FF97FF\",\"#FECB52\"],\"font\":{\"color\":\"#2a3f5f\"},\"hovermode\":\"closest\",\"hoverlabel\":{\"align\":\"left\"},\"paper_bgcolor\":\"white\",\"plot_bgcolor\":\"#E5ECF6\",\"polar\":{\"bgcolor\":\"#E5ECF6\",\"angularaxis\":{\"gridcolor\":\"white\",\"linecolor\":\"white\",\"ticks\":\"\"},\"radialaxis\":{\"gridcolor\":\"white\",\"linecolor\":\"white\",\"ticks\":\"\"}},\"ternary\":{\"bgcolor\":\"#E5ECF6\",\"aaxis\":{\"gridcolor\":\"white\",\"linecolor\":\"white\",\"ticks\":\"\"},\"baxis\":{\"gridcolor\":\"white\",\"linecolor\":\"white\",\"ticks\":\"\"},\"caxis\":{\"gridcolor\":\"white\",\"linecolor\":\"white\",\"ticks\":\"\"}},\"coloraxis\":{\"colorbar\":{\"outlinewidth\":0,\"ticks\":\"\"}},\"colorscale\":{\"sequential\":[[0.0,\"#0d0887\"],[0.1111111111111111,\"#46039f\"],[0.2222222222222222,\"#7201a8\"],[0.3333333333333333,\"#9c179e\"],[0.4444444444444444,\"#bd3786\"],[0.5555555555555556,\"#d8576b\"],[0.6666666666666666,\"#ed7953\"],[0.7777777777777778,\"#fb9f3a\"],[0.8888888888888888,\"#fdca26\"],[1.0,\"#f0f921\"]],\"sequentialminus\":[[0.0,\"#0d0887\"],[0.1111111111111111,\"#46039f\"],[0.2222222222222222,\"#7201a8\"],[0.3333333333333333,\"#9c179e\"],[0.4444444444444444,\"#bd3786\"],[0.5555555555555556,\"#d8576b\"],[0.6666666666666666,\"#ed7953\"],[0.7777777777777778,\"#fb9f3a\"],[0.8888888888888888,\"#fdca26\"],[1.0,\"#f0f921\"]],\"diverging\":[[0,\"#8e0152\"],[0.1,\"#c51b7d\"],[0.2,\"#de77ae\"],[0.3,\"#f1b6da\"],[0.4,\"#fde0ef\"],[0.5,\"#f7f7f7\"],[0.6,\"#e6f5d0\"],[0.7,\"#b8e186\"],[0.8,\"#7fbc41\"],[0.9,\"#4d9221\"],[1,\"#276419\"]]},\"xaxis\":{\"gridcolor\":\"white\",\"linecolor\":\"white\",\"ticks\":\"\",\"title\":{\"standoff\":15},\"zerolinecolor\":\"white\",\"automargin\":true,\"zerolinewidth\":2},\"yaxis\":{\"gridcolor\":\"white\",\"linecolor\":\"white\",\"ticks\":\"\",\"title\":{\"standoff\":15},\"zerolinecolor\":\"white\",\"automargin\":true,\"zerolinewidth\":2},\"scene\":{\"xaxis\":{\"backgroundcolor\":\"#E5ECF6\",\"gridcolor\":\"white\",\"linecolor\":\"white\",\"showbackground\":true,\"ticks\":\"\",\"zerolinecolor\":\"white\",\"gridwidth\":2},\"yaxis\":{\"backgroundcolor\":\"#E5ECF6\",\"gridcolor\":\"white\",\"linecolor\":\"white\",\"showbackground\":true,\"ticks\":\"\",\"zerolinecolor\":\"white\",\"gridwidth\":2},\"zaxis\":{\"backgroundcolor\":\"#E5ECF6\",\"gridcolor\":\"white\",\"linecolor\":\"white\",\"showbackground\":true,\"ticks\":\"\",\"zerolinecolor\":\"white\",\"gridwidth\":2}},\"shapedefaults\":{\"line\":{\"color\":\"#2a3f5f\"}},\"annotationdefaults\":{\"arrowcolor\":\"#2a3f5f\",\"arrowhead\":0,\"arrowwidth\":1},\"geo\":{\"bgcolor\":\"white\",\"landcolor\":\"#E5ECF6\",\"subunitcolor\":\"white\",\"showland\":true,\"showlakes\":true,\"lakecolor\":\"white\"},\"title\":{\"x\":0.05},\"mapbox\":{\"style\":\"light\"}}}},                        {\"responsive\": true}                    ).then(function(){\n",
       "                            \n",
       "var gd = document.getElementById('9675298d-2226-46de-bf3a-e9efb92d8fd0');\n",
       "var x = new MutationObserver(function (mutations, observer) {{\n",
       "        var display = window.getComputedStyle(gd).display;\n",
       "        if (!display || display === 'none') {{\n",
       "            console.log([gd, 'removed!']);\n",
       "            Plotly.purge(gd);\n",
       "            observer.disconnect();\n",
       "        }}\n",
       "}});\n",
       "\n",
       "// Listen for the removal of the full notebook cells\n",
       "var notebookContainer = gd.closest('#notebook-container');\n",
       "if (notebookContainer) {{\n",
       "    x.observe(notebookContainer, {childList: true});\n",
       "}}\n",
       "\n",
       "// Listen for the clearing of the current output cell\n",
       "var outputEl = gd.closest('.output');\n",
       "if (outputEl) {{\n",
       "    x.observe(outputEl, {childList: true});\n",
       "}}\n",
       "\n",
       "                        })                };                });            </script>        </div>"
      ]
     },
     "metadata": {},
     "output_type": "display_data"
    }
   ],
   "source": [
    "import plotly.graph_objects as go\n",
    "\n",
    "fig = go.Figure(data=[go.Scatter(y=y_test.values),\n",
    "                      go.Scatter(y=final_model_predictions)])\n",
    "fig.show()"
   ]
  },
  {
   "cell_type": "code",
   "execution_count": 46,
   "id": "3d3dea63",
   "metadata": {},
   "outputs": [],
   "source": [
    "from sklearn.metrics import classification_report, confusion_matrix\n"
   ]
  },
  {
   "cell_type": "code",
   "execution_count": 47,
   "id": "1f8f90b4",
   "metadata": {},
   "outputs": [
    {
     "name": "stderr",
     "output_type": "stream",
     "text": [
      "C:\\Users\\bealm\\anaconda3\\Lib\\site-packages\\sklearn\\utils\\_array_api.py:245: RuntimeWarning:\n",
      "\n",
      "invalid value encountered in cast\n",
      "\n"
     ]
    },
    {
     "ename": "ValueError",
     "evalue": "Classification metrics can't handle a mix of continuous-multioutput and continuous targets",
     "output_type": "error",
     "traceback": [
      "\u001b[1;31m---------------------------------------------------------------------------\u001b[0m",
      "\u001b[1;31mValueError\u001b[0m                                Traceback (most recent call last)",
      "Cell \u001b[1;32mIn[47], line 2\u001b[0m\n\u001b[0;32m      1\u001b[0m y_test \u001b[38;5;241m=\u001b[39m final_model\u001b[38;5;241m.\u001b[39mpredict(x_test)\n\u001b[1;32m----> 2\u001b[0m \u001b[38;5;28mprint\u001b[39m(classification_report(x_test, y_test))\n\u001b[0;32m      3\u001b[0m \u001b[38;5;28mprint\u001b[39m(confusion_matrix(x_test, y_test))\n",
      "File \u001b[1;32m~\\anaconda3\\Lib\\site-packages\\sklearn\\utils\\_param_validation.py:211\u001b[0m, in \u001b[0;36mvalidate_params.<locals>.decorator.<locals>.wrapper\u001b[1;34m(*args, **kwargs)\u001b[0m\n\u001b[0;32m    205\u001b[0m \u001b[38;5;28;01mtry\u001b[39;00m:\n\u001b[0;32m    206\u001b[0m     \u001b[38;5;28;01mwith\u001b[39;00m config_context(\n\u001b[0;32m    207\u001b[0m         skip_parameter_validation\u001b[38;5;241m=\u001b[39m(\n\u001b[0;32m    208\u001b[0m             prefer_skip_nested_validation \u001b[38;5;129;01mor\u001b[39;00m global_skip_validation\n\u001b[0;32m    209\u001b[0m         )\n\u001b[0;32m    210\u001b[0m     ):\n\u001b[1;32m--> 211\u001b[0m         \u001b[38;5;28;01mreturn\u001b[39;00m func(\u001b[38;5;241m*\u001b[39margs, \u001b[38;5;241m*\u001b[39m\u001b[38;5;241m*\u001b[39mkwargs)\n\u001b[0;32m    212\u001b[0m \u001b[38;5;28;01mexcept\u001b[39;00m InvalidParameterError \u001b[38;5;28;01mas\u001b[39;00m e:\n\u001b[0;32m    213\u001b[0m     \u001b[38;5;66;03m# When the function is just a wrapper around an estimator, we allow\u001b[39;00m\n\u001b[0;32m    214\u001b[0m     \u001b[38;5;66;03m# the function to delegate validation to the estimator, but we replace\u001b[39;00m\n\u001b[0;32m    215\u001b[0m     \u001b[38;5;66;03m# the name of the estimator by the name of the function in the error\u001b[39;00m\n\u001b[0;32m    216\u001b[0m     \u001b[38;5;66;03m# message to avoid confusion.\u001b[39;00m\n\u001b[0;32m    217\u001b[0m     msg \u001b[38;5;241m=\u001b[39m re\u001b[38;5;241m.\u001b[39msub(\n\u001b[0;32m    218\u001b[0m         \u001b[38;5;124mr\u001b[39m\u001b[38;5;124m\"\u001b[39m\u001b[38;5;124mparameter of \u001b[39m\u001b[38;5;124m\\\u001b[39m\u001b[38;5;124mw+ must be\u001b[39m\u001b[38;5;124m\"\u001b[39m,\n\u001b[0;32m    219\u001b[0m         \u001b[38;5;124mf\u001b[39m\u001b[38;5;124m\"\u001b[39m\u001b[38;5;124mparameter of \u001b[39m\u001b[38;5;132;01m{\u001b[39;00mfunc\u001b[38;5;241m.\u001b[39m\u001b[38;5;18m__qualname__\u001b[39m\u001b[38;5;132;01m}\u001b[39;00m\u001b[38;5;124m must be\u001b[39m\u001b[38;5;124m\"\u001b[39m,\n\u001b[0;32m    220\u001b[0m         \u001b[38;5;28mstr\u001b[39m(e),\n\u001b[0;32m    221\u001b[0m     )\n",
      "File \u001b[1;32m~\\anaconda3\\Lib\\site-packages\\sklearn\\metrics\\_classification.py:2539\u001b[0m, in \u001b[0;36mclassification_report\u001b[1;34m(y_true, y_pred, labels, target_names, sample_weight, digits, output_dict, zero_division)\u001b[0m\n\u001b[0;32m   2405\u001b[0m \u001b[38;5;129m@validate_params\u001b[39m(\n\u001b[0;32m   2406\u001b[0m     {\n\u001b[0;32m   2407\u001b[0m         \u001b[38;5;124m\"\u001b[39m\u001b[38;5;124my_true\u001b[39m\u001b[38;5;124m\"\u001b[39m: [\u001b[38;5;124m\"\u001b[39m\u001b[38;5;124marray-like\u001b[39m\u001b[38;5;124m\"\u001b[39m, \u001b[38;5;124m\"\u001b[39m\u001b[38;5;124msparse matrix\u001b[39m\u001b[38;5;124m\"\u001b[39m],\n\u001b[1;32m   (...)\u001b[0m\n\u001b[0;32m   2430\u001b[0m     zero_division\u001b[38;5;241m=\u001b[39m\u001b[38;5;124m\"\u001b[39m\u001b[38;5;124mwarn\u001b[39m\u001b[38;5;124m\"\u001b[39m,\n\u001b[0;32m   2431\u001b[0m ):\n\u001b[0;32m   2432\u001b[0m \u001b[38;5;250m    \u001b[39m\u001b[38;5;124;03m\"\"\"Build a text report showing the main classification metrics.\u001b[39;00m\n\u001b[0;32m   2433\u001b[0m \n\u001b[0;32m   2434\u001b[0m \u001b[38;5;124;03m    Read more in the :ref:`User Guide <classification_report>`.\u001b[39;00m\n\u001b[1;32m   (...)\u001b[0m\n\u001b[0;32m   2536\u001b[0m \u001b[38;5;124;03m    <BLANKLINE>\u001b[39;00m\n\u001b[0;32m   2537\u001b[0m \u001b[38;5;124;03m    \"\"\"\u001b[39;00m\n\u001b[1;32m-> 2539\u001b[0m     y_type, y_true, y_pred \u001b[38;5;241m=\u001b[39m _check_targets(y_true, y_pred)\n\u001b[0;32m   2541\u001b[0m     \u001b[38;5;28;01mif\u001b[39;00m labels \u001b[38;5;129;01mis\u001b[39;00m \u001b[38;5;28;01mNone\u001b[39;00m:\n\u001b[0;32m   2542\u001b[0m         labels \u001b[38;5;241m=\u001b[39m unique_labels(y_true, y_pred)\n",
      "File \u001b[1;32m~\\anaconda3\\Lib\\site-packages\\sklearn\\metrics\\_classification.py:93\u001b[0m, in \u001b[0;36m_check_targets\u001b[1;34m(y_true, y_pred)\u001b[0m\n\u001b[0;32m     90\u001b[0m     y_type \u001b[38;5;241m=\u001b[39m {\u001b[38;5;124m\"\u001b[39m\u001b[38;5;124mmulticlass\u001b[39m\u001b[38;5;124m\"\u001b[39m}\n\u001b[0;32m     92\u001b[0m \u001b[38;5;28;01mif\u001b[39;00m \u001b[38;5;28mlen\u001b[39m(y_type) \u001b[38;5;241m>\u001b[39m \u001b[38;5;241m1\u001b[39m:\n\u001b[1;32m---> 93\u001b[0m     \u001b[38;5;28;01mraise\u001b[39;00m \u001b[38;5;167;01mValueError\u001b[39;00m(\n\u001b[0;32m     94\u001b[0m         \u001b[38;5;124m\"\u001b[39m\u001b[38;5;124mClassification metrics can\u001b[39m\u001b[38;5;124m'\u001b[39m\u001b[38;5;124mt handle a mix of \u001b[39m\u001b[38;5;132;01m{0}\u001b[39;00m\u001b[38;5;124m and \u001b[39m\u001b[38;5;132;01m{1}\u001b[39;00m\u001b[38;5;124m targets\u001b[39m\u001b[38;5;124m\"\u001b[39m\u001b[38;5;241m.\u001b[39mformat(\n\u001b[0;32m     95\u001b[0m             type_true, type_pred\n\u001b[0;32m     96\u001b[0m         )\n\u001b[0;32m     97\u001b[0m     )\n\u001b[0;32m     99\u001b[0m \u001b[38;5;66;03m# We can't have more than one value on y_type => The set is no more needed\u001b[39;00m\n\u001b[0;32m    100\u001b[0m y_type \u001b[38;5;241m=\u001b[39m y_type\u001b[38;5;241m.\u001b[39mpop()\n",
      "\u001b[1;31mValueError\u001b[0m: Classification metrics can't handle a mix of continuous-multioutput and continuous targets"
     ]
    }
   ],
   "source": [
    "y_test = final_model.predict(x_test)\n",
    "print(classification_report(x_test, y_test))\n",
    "print(confusion_matrix(x_test, y_test))"
   ]
  },
  {
   "cell_type": "code",
   "execution_count": 50,
   "id": "8e01cfbb",
   "metadata": {},
   "outputs": [
    {
     "name": "stdout",
     "output_type": "stream",
     "text": [
      "Shape do array: (379,)\n",
      "Tipo de dados do array: float64\n",
      "Tamanho do array: 379\n"
     ]
    }
   ],
   "source": [
    "import numpy as np\n",
    "\n",
    "# Verificar a forma (shape) do array\n",
    "print(\"Shape do array:\", y_test.shape)\n",
    "\n",
    "# Verificar o tipo de dados (dtype) do array\n",
    "print(\"Tipo de dados do array:\", y_test.dtype)\n",
    "\n",
    "# Verificar o tamanho (size) do array\n",
    "print(\"Tamanho do array:\", y_test.size)"
   ]
  },
  {
   "cell_type": "code",
   "execution_count": 51,
   "id": "0393e2e1",
   "metadata": {},
   "outputs": [
    {
     "data": {
      "text/plain": [
       "array([2.5640e+02, 1.3900e+02, 0.0000e+00, 1.0000e+01, 1.6000e+01,\n",
       "       3.4650e+02, 3.7000e+01, 1.5730e+02, 0.0000e+00, 4.3000e+01,\n",
       "       3.0000e+01, 2.7410e+02, 0.0000e+00, 1.0000e+00, 3.0000e+00,\n",
       "       1.1770e+02, 9.0000e+00, 8.2000e+01, 1.1890e+02, 2.1000e+01,\n",
       "       1.0000e+00, 2.8950e+02, 5.1700e+01, 6.5500e+01, 3.2000e+01,\n",
       "       3.6000e+01, 0.0000e+00, 1.0000e+01, 0.0000e+00, 7.7000e+01,\n",
       "       1.0000e+00, 5.5000e+01, 3.0000e+00, 4.3000e+01, 6.7000e+01,\n",
       "       1.2000e+01, 2.0000e+01, 3.8000e+01, 7.1000e+01, 7.7000e+01,\n",
       "       0.0000e+00, 0.0000e+00, 1.0000e+00, 0.0000e+00, 2.8000e+01,\n",
       "       6.7000e+01, 1.3940e+02, 1.2000e+01, 0.0000e+00, 4.4000e+01,\n",
       "       4.0000e+01, 0.0000e+00, 8.3000e+01, 1.0000e+00, 1.1890e+02,\n",
       "       0.0000e+00, 0.0000e+00, 1.3940e+02, 6.7310e+02, 0.0000e+00,\n",
       "       1.3360e+02, 2.0000e+00, 1.3000e+01, 7.8000e+01, 1.2000e+01,\n",
       "       1.0150e+03, 6.7230e+02, 3.0480e+02, 5.0000e+00, 3.5000e+01,\n",
       "       1.0000e+00, 1.2468e+03, 2.7000e+01, 1.0000e+00, 1.0840e+02,\n",
       "       5.8000e+01, 0.0000e+00, 2.2180e+02, 2.0000e+00, 1.7000e+01,\n",
       "       3.7000e+01, 1.2000e+01, 1.0488e+03, 2.0000e+00, 0.0000e+00,\n",
       "       3.0000e+00, 4.8000e+01, 0.0000e+00, 1.5000e+01, 2.3000e+01,\n",
       "       1.0700e+02, 3.4650e+02, 4.2000e+01, 1.8000e+01, 1.1000e+01,\n",
       "       0.0000e+00, 2.4480e+02, 0.0000e+00, 2.1000e+01, 1.0860e+02,\n",
       "       4.1000e+01, 8.0000e+00, 0.0000e+00, 0.0000e+00, 6.0000e+00,\n",
       "       3.4788e+03, 7.0000e+01, 0.0000e+00, 0.0000e+00, 1.7380e+02,\n",
       "       5.4000e+01, 1.0140e+02, 6.7000e+01, 4.2500e+02, 3.0000e+00,\n",
       "       2.6000e+01, 1.7000e+01, 1.1000e+01, 1.2000e+01, 5.7000e+01,\n",
       "       2.9000e+01, 5.0700e+02, 2.3000e+01, 2.9780e+02, 0.0000e+00,\n",
       "       1.9000e+01, 0.0000e+00, 0.0000e+00, 0.0000e+00, 2.1000e+01,\n",
       "       2.6550e+02, 2.5000e+01, 6.9000e+01, 1.5800e+02, 2.3000e+01,\n",
       "       2.4740e+02, 0.0000e+00, 1.7000e+01, 7.0000e+00, 4.5000e+01,\n",
       "       2.6590e+02, 3.8000e+01, 5.2000e+01, 1.1870e+02, 0.0000e+00,\n",
       "       0.0000e+00, 5.1100e+01, 4.4820e+02, 1.0000e+00, 3.8000e+01,\n",
       "       5.0000e+00, 3.0000e+01, 4.0000e+00, 6.2000e+01, 9.0000e+00,\n",
       "       4.2000e+01, 6.6200e+01, 1.0000e+00, 4.7000e+01, 1.2540e+03,\n",
       "       4.8650e+02, 4.5000e+01, 2.0000e+00, 7.0000e+00, 7.5000e+01,\n",
       "       0.0000e+00, 6.1000e+01, 3.3000e+01, 4.2000e+01, 0.0000e+00,\n",
       "       9.0300e+01, 1.8000e+01, 2.0100e+02, 6.9260e+02, 7.7000e+01,\n",
       "       1.6540e+02, 1.8780e+02, 3.0000e+01, 1.8032e+03, 2.6000e+01,\n",
       "       0.0000e+00, 1.1800e+02, 1.6000e+01, 1.8032e+03, 2.4700e+01,\n",
       "       1.4800e+02, 0.0000e+00, 3.0000e+00, 3.8000e+01, 4.0000e+00,\n",
       "       3.2000e+01, 0.0000e+00, 3.0000e+01, 3.7580e+02, 2.3680e+02,\n",
       "       0.0000e+00, 6.0000e+01, 0.0000e+00, 1.7200e+02, 2.2000e+01,\n",
       "       5.3000e+01, 1.1980e+02, 1.0000e+00, 8.2000e+01, 2.0000e+01,\n",
       "       2.4700e+01, 2.3000e+01, 0.0000e+00, 1.9500e+02, 3.0000e+01,\n",
       "       5.9820e+02, 0.0000e+00, 1.3000e+01, 1.8780e+02, 1.5000e+01,\n",
       "       1.7000e+01, 1.1050e+02, 2.1000e+01, 1.1000e+01, 1.0000e+00,\n",
       "       0.0000e+00, 6.8610e+02, 2.4700e+01, 1.0000e+00, 0.0000e+00,\n",
       "       6.0000e+01, 7.8000e+01, 1.4200e+02, 9.6300e+01, 3.0000e+00,\n",
       "       1.5800e+02, 3.2500e+02, 3.4000e+01, 8.3000e+01, 2.0000e+01,\n",
       "       0.0000e+00, 1.2000e+01, 1.1770e+02, 6.7000e+01, 4.6000e+01,\n",
       "       5.5000e+01, 0.0000e+00, 6.6200e+01, 2.4000e+01, 2.1000e+01,\n",
       "       5.0000e+00, 4.2500e+02, 2.6000e+01, 2.1749e+03, 1.2684e+03,\n",
       "       3.9000e+01, 6.0000e+00, 0.0000e+00, 1.8000e+01, 1.9000e+01,\n",
       "       3.4000e+01, 8.2000e+01, 7.0000e+01, 6.6500e+01, 4.4000e+01,\n",
       "       7.4760e+02, 5.5100e+02, 7.5540e+02, 0.0000e+00, 3.2960e+02,\n",
       "       1.6500e+02, 1.0160e+02, 0.0000e+00, 0.0000e+00, 4.3000e+01,\n",
       "       0.0000e+00, 0.0000e+00, 4.9000e+01, 1.0000e+01, 0.0000e+00,\n",
       "       4.0000e+00, 5.9000e+01, 0.0000e+00, 2.1910e+02, 3.9000e+01,\n",
       "       7.0000e+00, 0.0000e+00, 9.6000e+01, 0.0000e+00, 4.6000e+01,\n",
       "       6.5080e+02, 1.7600e+02, 1.7480e+02, 0.0000e+00, 1.5420e+02,\n",
       "       0.0000e+00, 0.0000e+00, 1.6000e+01, 0.0000e+00, 0.0000e+00,\n",
       "       2.2120e+02, 0.0000e+00, 8.0000e+00, 1.0000e+00, 2.0000e+00,\n",
       "       1.8000e+01, 9.6700e+01, 1.0830e+02, 9.7000e+01, 6.3000e+01,\n",
       "       1.1470e+02, 1.4590e+02, 0.0000e+00, 2.0870e+02, 0.0000e+00,\n",
       "       3.0000e+01, 1.8000e+01, 5.0000e+00, 1.0400e+02, 3.2000e+01,\n",
       "       5.1900e+01, 0.0000e+00, 4.8650e+02, 0.0000e+00, 0.0000e+00,\n",
       "       3.3000e+01, 0.0000e+00, 0.0000e+00, 0.0000e+00, 5.7000e+01,\n",
       "       3.2000e+01, 5.0000e+01, 1.1770e+02, 9.1500e+02, 1.3500e+02,\n",
       "       8.4000e+01, 7.3000e+01, 0.0000e+00, 1.0000e+00, 3.5000e+01,\n",
       "       9.6300e+01, 7.2700e+01, 2.0000e+00, 2.3000e+01, 4.3000e+01,\n",
       "       3.7800e+02, 5.0000e+00, 3.0000e+00, 2.1500e+02, 1.7000e+01,\n",
       "       0.0000e+00, 1.1470e+02, 3.4650e+02, 6.9000e+01, 2.0000e+01,\n",
       "       2.7400e+02, 3.2130e+02, 8.0000e+00, 9.0000e+00, 0.0000e+00,\n",
       "       5.0000e+00, 9.0000e+00, 0.0000e+00, 0.0000e+00, 0.0000e+00,\n",
       "       3.0000e+01, 3.2590e+02, 4.7000e+01, 1.6000e+01, 0.0000e+00,\n",
       "       0.0000e+00, 0.0000e+00, 5.3000e+01, 1.2780e+03, 7.0000e+00,\n",
       "       1.9000e+01, 4.1000e+01, 2.3800e+02, 1.0000e+00, 2.1749e+03,\n",
       "       6.3300e+01, 6.0000e+00, 1.1440e+02, 3.0000e+00])"
      ]
     },
     "execution_count": 51,
     "metadata": {},
     "output_type": "execute_result"
    }
   ],
   "source": [
    "\n"
   ]
  },
  {
   "cell_type": "code",
   "execution_count": null,
   "id": "582f8c79",
   "metadata": {},
   "outputs": [],
   "source": []
  }
 ],
 "metadata": {
  "kernelspec": {
   "display_name": "Python 3 (ipykernel)",
   "language": "python",
   "name": "python3"
  },
  "language_info": {
   "codemirror_mode": {
    "name": "ipython",
    "version": 3
   },
   "file_extension": ".py",
   "mimetype": "text/x-python",
   "name": "python",
   "nbconvert_exporter": "python",
   "pygments_lexer": "ipython3",
   "version": "3.11.5"
  }
 },
 "nbformat": 4,
 "nbformat_minor": 5
}
